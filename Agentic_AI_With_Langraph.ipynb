{
  "nbformat": 4,
  "nbformat_minor": 0,
  "metadata": {
    "colab": {
      "provenance": []
    },
    "kernelspec": {
      "name": "python3",
      "display_name": "Python 3"
    },
    "language_info": {
      "name": "python"
    }
  },
  "cells": [
    {
      "cell_type": "code",
      "execution_count": null,
      "metadata": {
        "colab": {
          "base_uri": "https://localhost:8080/"
        },
        "id": "sdQptTqP6Qty",
        "outputId": "a63a3438-5338-43e5-b687-f6db226d1959"
      },
      "outputs": [
        {
          "output_type": "stream",
          "name": "stdout",
          "text": [
            "\u001b[2K     \u001b[90m━━━━━━━━━━━━━━━━━━━━━━━━━━━━━━━━━━━━━━━━\u001b[0m \u001b[32m87.7/87.7 kB\u001b[0m \u001b[31m2.0 MB/s\u001b[0m eta \u001b[36m0:00:00\u001b[0m\n",
            "\u001b[2K   \u001b[90m━━━━━━━━━━━━━━━━━━━━━━━━━━━━━━━━━━━━━━━━\u001b[0m \u001b[32m2.5/2.5 MB\u001b[0m \u001b[31m33.9 MB/s\u001b[0m eta \u001b[36m0:00:00\u001b[0m\n",
            "\u001b[2K   \u001b[90m━━━━━━━━━━━━━━━━━━━━━━━━━━━━━━━━━━━━━━━━\u001b[0m \u001b[32m155.4/155.4 kB\u001b[0m \u001b[31m11.4 MB/s\u001b[0m eta \u001b[36m0:00:00\u001b[0m\n",
            "\u001b[2K   \u001b[90m━━━━━━━━━━━━━━━━━━━━━━━━━━━━━━━━━━━━━━━━\u001b[0m \u001b[32m462.4/462.4 kB\u001b[0m \u001b[31m28.5 MB/s\u001b[0m eta \u001b[36m0:00:00\u001b[0m\n",
            "\u001b[2K   \u001b[90m━━━━━━━━━━━━━━━━━━━━━━━━━━━━━━━━━━━━━━━━\u001b[0m \u001b[32m2.1/2.1 MB\u001b[0m \u001b[31m79.5 MB/s\u001b[0m eta \u001b[36m0:00:00\u001b[0m\n",
            "\u001b[2K   \u001b[90m━━━━━━━━━━━━━━━━━━━━━━━━━━━━━━━━━━━━━━━━\u001b[0m \u001b[32m42.0/42.0 kB\u001b[0m \u001b[31m2.7 MB/s\u001b[0m eta \u001b[36m0:00:00\u001b[0m\n",
            "\u001b[2K   \u001b[90m━━━━━━━━━━━━━━━━━━━━━━━━━━━━━━━━━━━━━━━━\u001b[0m \u001b[32m46.1/46.1 kB\u001b[0m \u001b[31m3.1 MB/s\u001b[0m eta \u001b[36m0:00:00\u001b[0m\n",
            "\u001b[2K   \u001b[90m━━━━━━━━━━━━━━━━━━━━━━━━━━━━━━━━━━━━━━━━\u001b[0m \u001b[32m56.8/56.8 kB\u001b[0m \u001b[31m2.5 MB/s\u001b[0m eta \u001b[36m0:00:00\u001b[0m\n",
            "\u001b[2K   \u001b[90m━━━━━━━━━━━━━━━━━━━━━━━━━━━━━━━━━━━━━━━━\u001b[0m \u001b[32m64.7/64.7 kB\u001b[0m \u001b[31m4.2 MB/s\u001b[0m eta \u001b[36m0:00:00\u001b[0m\n",
            "\u001b[2K   \u001b[90m━━━━━━━━━━━━━━━━━━━━━━━━━━━━━━━━━━━━━━━━\u001b[0m \u001b[32m50.9/50.9 kB\u001b[0m \u001b[31m2.9 MB/s\u001b[0m eta \u001b[36m0:00:00\u001b[0m\n",
            "\u001b[2K   \u001b[90m━━━━━━━━━━━━━━━━━━━━━━━━━━━━━━━━━━━━━━━━\u001b[0m \u001b[32m207.6/207.6 kB\u001b[0m \u001b[31m15.1 MB/s\u001b[0m eta \u001b[36m0:00:00\u001b[0m\n",
            "\u001b[?25h\u001b[31mERROR: pip's dependency resolver does not currently take into account all the packages that are installed. This behaviour is the source of the following dependency conflicts.\n",
            "google-colab 1.0.0 requires requests==2.32.4, but you have requests 2.32.5 which is incompatible.\n",
            "gradio 5.49.1 requires pydantic<2.12,>=2.0, but you have pydantic 2.12.3 which is incompatible.\u001b[0m\u001b[31m\n",
            "\u001b[0m"
          ]
        }
      ],
      "source": [
        "!pip -qq install -U langchain langchain-community langgraph pydantic google-ai-generativelanguage==0.6.15 langchain-google-genai"
      ]
    },
    {
      "cell_type": "code",
      "source": [
        "import os\n",
        "import operator\n",
        "from typing import Annotated, Literal\n",
        "from typing_extensions import TypedDict\n",
        "from pydantic import BaseModel\n",
        "\n",
        "from langgraph.graph import StateGraph, MessagesState, START, END\n",
        "from langgraph.prebuilt import ToolNode\n",
        "from langgraph.graph.message import add_messages\n",
        "from langgraph.types import Command\n",
        "\n",
        "from langchain_google_genai import ChatGoogleGenerativeAI\n",
        "from langchain.chat_models import init_chat_model\n",
        "from langchain_core.messages import AnyMessage, HumanMessage\n",
        "\n",
        "from google.colab import userdata\n",
        "\n",
        "from getpass import getpass\n",
        "import os\n",
        "\n",
        "# Enter the key securely (won't be visible when typed)\n",
        "os.environ['API_KEY'] = getpass('Enter your API key: ')\n",
        "\n",
        "# Use the key\n",
        "GOOGLE_API_KEY = os.environ['API_KEY']\n"
      ],
      "metadata": {
        "colab": {
          "base_uri": "https://localhost:8080/"
        },
        "id": "Xr8jyCp26a2P",
        "outputId": "f1fdc114-7200-40a6-8fdd-953d34c4fbe9"
      },
      "execution_count": null,
      "outputs": [
        {
          "name": "stdout",
          "output_type": "stream",
          "text": [
            "Enter your API key: ··········\n"
          ]
        }
      ]
    },
    {
      "cell_type": "markdown",
      "source": [
        "Prompt Chaining"
      ],
      "metadata": {
        "id": "FyIKhKjd6c0B"
      }
    },
    {
      "cell_type": "code",
      "source": [
        "# Define LLM client\n",
        "llm = ChatGoogleGenerativeAI(\n",
        "    model=\"gemini-2.0-flash\",\n",
        "    api_key=GOOGLE_API_KEY,\n",
        "    system_instruction=\"\"\"You are an expert technical writer. Always give clear,\n",
        "     concise, and straight-to-the-point answers.\"\"\"\n",
        ")\n",
        "\n",
        "# Define the graph state\n",
        "class State(dict):\n",
        "    text: str\n",
        "    topics: str\n",
        "    title: str\n",
        "\n",
        "# Define nodes (steps)\n",
        "def extract_topics(state: State) -> State:\n",
        "    prompt = f\"Extract 1-3 key topics from the following text:\\n\\n{state['text']}\"\n",
        "    resp = llm.invoke(prompt)\n",
        "    state[\"topics\"] = resp.content.strip()\n",
        "    return state\n",
        "\n",
        "def generate_title(state: State) -> State:\n",
        "    prompt = f\"Generate two catchy blog titles for each one these topics:\\n\\n{state['topics']}\"\n",
        "    resp = llm.invoke(prompt)\n",
        "    state[\"title\"] = resp.content.strip()\n",
        "    return state\n",
        "\n",
        "# Build the graph\n",
        "workflow = StateGraph(State)\n",
        "workflow.add_node(\"extract_topics\", extract_topics)\n",
        "workflow.add_node(\"generate_title\", generate_title)\n",
        "\n",
        "# Flow: extract_topics → generate_title → END\n",
        "workflow.set_entry_point(\"extract_topics\")\n",
        "workflow.add_edge(\"extract_topics\", \"generate_title\")\n",
        "workflow.add_edge(\"generate_title\", END)\n",
        "\n",
        "# Compile runnable graph\n",
        "graph = workflow.compile()"
      ],
      "metadata": {
        "id": "IzzG-S2Z6g3l"
      },
      "execution_count": null,
      "outputs": []
    },
    {
      "cell_type": "code",
      "source": [
        "graph"
      ],
      "metadata": {
        "colab": {
          "base_uri": "https://localhost:8080/",
          "height": 350
        },
        "id": "IPSU4cpU6kcq",
        "outputId": "6ea8f582-2015-4695-cacc-1078aac86ed8"
      },
      "execution_count": null,
      "outputs": [
        {
          "output_type": "execute_result",
          "data": {
            "text/plain": [
              "<langgraph.graph.state.CompiledStateGraph object at 0x7c95165c34d0>"
            ],
            "image/png": "[encoded data removed]"
          },
          "metadata": {},
          "execution_count": 6
        }
      ]
    },
    {
      "cell_type": "code",
      "source": [
        "# Run the graph\n",
        "input_text = (\n",
        "    \"LlamaIndex agents are AI-powered reasoning and decision engines designed to automate complex tasks, especially those involving your private or domain-specific data. \"\n",
        "    \"LlamaIndex is highly regarded for its data-centric approach and strong features for Retrieval-Augmented Generation (RAG) when compared to other frameworks like LangChain or CrewAI. \"\n",
        ")\n",
        "\n",
        "result = graph.invoke({\"text\": input_text})\n",
        "print(\"Topics:\", result[\"topics\"])\n",
        "print(\"\\n\"+\"=\"*50+\"\\n\")\n",
        "print(\"Suggested Blog Title:\", result[\"title\"])"
      ],
      "metadata": {
        "colab": {
          "base_uri": "https://localhost:8080/"
        },
        "id": "0boWW6l_6nvp",
        "outputId": "a3d0488c-f209-4cbe-c136-8819ca7e1892"
      },
      "execution_count": null,
      "outputs": [
        {
          "output_type": "stream",
          "name": "stdout",
          "text": [
            "Topics: Here are 2 key topics extracted from the text:\n",
            "\n",
            "1.  **LlamaIndex Agents:** The text introduces LlamaIndex agents as a core concept.\n",
            "2.  **Data-Centric RAG:** The text highlights LlamaIndex's strength in data-focused Retrieval-Augmented Generation (RAG) compared to other frameworks.\n",
            "\n",
            "==================================================\n",
            "\n",
            "Suggested Blog Title: Okay, here are two catchy blog titles for each of the topics you provided:\n",
            "\n",
            "**1. LlamaIndex Agents:**\n",
            "\n",
            "*   **Title 1:** Unleash the Power of LlamaIndex Agents: Your Guide to AI-Powered Data Wrangling\n",
            "*   **Title 2:** Beyond Chatbots: How LlamaIndex Agents are Redefining AI Automation\n",
            "\n",
            "**2. Data-Centric RAG:**\n",
            "\n",
            "*   **Title 1:** Stop Guessing, Start Knowing: Data-Centric RAG with LlamaIndex\n",
            "*   **Title 2:** LlamaIndex RAG: Where Data Reigns Supreme (and Why You Should Care)\n"
          ]
        }
      ]
    },
    {
      "cell_type": "markdown",
      "source": [
        "Routing"
      ],
      "metadata": {
        "id": "FE-6T1-b6qKM"
      }
    },
    {
      "cell_type": "code",
      "source": [
        "# LLM client\n",
        "llm = ChatGoogleGenerativeAI(\n",
        "    model=\"gemini-2.0-flash\",\n",
        "    api_key=GOOGLE_API_KEY,\n",
        "    system_instruction=\"\"\"You are a helpful assistant that can classify text\n",
        "    sentiment and respond accordingly.\"\"\"\n",
        ")\n",
        "\n",
        "# State definition\n",
        "class State(dict):\n",
        "    text: str\n",
        "    sentiment: str\n",
        "    response: str\n",
        "\n",
        "# Nodes\n",
        "def calssification(state: State) -> str:\n",
        "    \"\"\"Classify sentiment.\"\"\"\n",
        "    prompt = f\"Is the following text positive or negative? Answer with one word only: Positive or Negative.\\n\\n{state['text']}\"\n",
        "    resp = llm.invoke(prompt)\n",
        "    sentiment = resp.content.strip().lower()\n",
        "    state[\"sentiment\"] = sentiment\n",
        "    return state\n",
        "\n",
        "def positive_node(state: State) -> State:\n",
        "    prompt = f\"Generate an encouraging reply to this positive text:\\n\\n{state['text']}\"\n",
        "    resp = llm.invoke(prompt)\n",
        "    state[\"response\"] = resp.content.strip()\n",
        "    return state\n",
        "\n",
        "def negative_node(state: State) -> State:\n",
        "    prompt = f\"Generate a supportive reply to this negative text:\\n\\n{state['text']}\"\n",
        "    resp = llm.invoke(prompt)\n",
        "    state[\"response\"] = resp.content.strip()\n",
        "    return state\n",
        "\n",
        "def router_func(state: State) -> Literal[\"positive\", \"negative\"]:\n",
        "    \"\"\"Return next node name.\"\"\"\n",
        "    return \"positive\" if \"positive\" in state[\"sentiment\"] else \"negative\"\n",
        "\n",
        "# Build the graph\n",
        "workflow = StateGraph(State)\n",
        "\n",
        "workflow.add_node(\"calssification\", calssification)\n",
        "workflow.add_node(\"positive\", positive_node)\n",
        "workflow.add_node(\"negative\", negative_node)\n",
        "\n",
        "# classify node decides the next step\n",
        "workflow.set_entry_point(\"calssification\")\n",
        "workflow.add_conditional_edges(\"calssification\", router_func, {\n",
        "    \"positive\": \"positive\",\n",
        "    \"negative\": \"negative\",\n",
        "})\n",
        "\n",
        "# Both branches lead to END\n",
        "workflow.add_edge(\"positive\", END)\n",
        "workflow.add_edge(\"negative\", END)\n",
        "\n",
        "graph = workflow.compile()"
      ],
      "metadata": {
        "id": "fEyk0qag6tl8"
      },
      "execution_count": null,
      "outputs": []
    },
    {
      "cell_type": "code",
      "source": [
        "graph"
      ],
      "metadata": {
        "id": "ejxLM_9g8fPc",
        "colab": {
          "base_uri": "https://localhost:8080/",
          "height": 350
        },
        "outputId": "ed23c234-c613-4608-c95a-41cf128032e6"
      },
      "execution_count": null,
      "outputs": [
        {
          "output_type": "execute_result",
          "data": {
            "text/plain": [
              "<langgraph.graph.state.CompiledStateGraph object at 0x7c95165c38f0>"
            ],
            "image/png": "[encoded data removed]"
          },
          "metadata": {},
          "execution_count": 10
        }
      ]
    },
    {
      "cell_type": "code",
      "source": [
        "# Run example\n",
        "input_text = \"I am very excited to learn and explore the world of AI\"\n",
        "result = graph.invoke({\"text\": input_text})\n",
        "print(\"Sentiment:\", result[\"sentiment\"])\n",
        "print(\"Response:\", result[\"response\"])\n"
      ],
      "metadata": {
        "id": "XDWBKU3I8hPC",
        "colab": {
          "base_uri": "https://localhost:8080/"
        },
        "outputId": "133676af-7e7e-46cc-d46c-542b992a71ce"
      },
      "execution_count": null,
      "outputs": [
        {
          "output_type": "stream",
          "name": "stderr",
          "text": [
            "WARNING:langchain_google_genai.chat_models:Retrying langchain_google_genai.chat_models._chat_with_retry.<locals>._chat_with_retry in 2.0 seconds as it raised ResourceExhausted: 429 Resource exhausted. Please try again later. Please refer to https://cloud.google.com/vertex-ai/generative-ai/docs/error-code-429 for more details..\n"
          ]
        },
        {
          "output_type": "stream",
          "name": "stdout",
          "text": [
            "Sentiment: positive\n",
            "Response: That's fantastic! Your enthusiasm is contagious. The world of AI is incredibly exciting, and I'm so glad you're diving in. Get ready for a journey of endless learning and discovery - you're going to love it! Let me know if you ever want to chat about what you're learning!\n"
          ]
        }
      ]
    },
    {
      "cell_type": "markdown",
      "source": [
        "Parallelization"
      ],
      "metadata": {
        "id": "YbiUDzSt8jLx"
      }
    },
    {
      "cell_type": "code",
      "source": [
        "# LLM client\n",
        "llm = ChatGoogleGenerativeAI(\n",
        "    model=\"gemini-2.5-flash\",\n",
        "    api_key=GOOGLE_API_KEY,\n",
        ")\n",
        "\n",
        "# State definition\n",
        "class State(TypedDict):\n",
        "    text: str\n",
        "    # Reducer makes these append-only so multiple nodes can update in parallel\n",
        "    outputs: Annotated[list, operator.add]\n",
        "\n",
        "# Nodes\n",
        "def summarize(state: State):\n",
        "    prompt = f\"Summarize in one sentence:\\n\\n{state['text']}\"\n",
        "    resp = llm.invoke(prompt)\n",
        "    return {\"outputs\": [f\"Summary: {resp.content.strip()}\"]}\n",
        "\n",
        "def critique(state: State):\n",
        "    prompt = f\"Critique briefly:\\n\\n{state['text']}\"\n",
        "    resp = llm.invoke(prompt)\n",
        "    return {\"outputs\": [f\"Critique: {resp.content.strip()}\"]}\n",
        "\n",
        "def combine(state: State):\n",
        "    prompt = f\"Combine the following Critique and Summarization in one \\\n",
        "    paragraph:\\n\\n{state['text']}\"\n",
        "    resp = llm.invoke(prompt)\n",
        "    return {\"outputs\": [f\"Combined:\\n{resp.content.strip()}\"]}\n",
        "\n",
        "# Build the graph\n",
        "builder = StateGraph(State)\n",
        "builder.add_node(\"summarize\", summarize)\n",
        "builder.add_node(\"critique\", critique)\n",
        "builder.add_node(\"combine\", combine)\n",
        "\n",
        "# Parallel edges: summarize and critique run side by side\n",
        "builder.add_edge(START, \"summarize\")\n",
        "builder.add_edge(START, \"critique\")\n",
        "\n",
        "# Both join into combine\n",
        "builder.add_edge(\"summarize\", \"combine\")\n",
        "builder.add_edge(\"critique\", \"combine\")\n",
        "\n",
        "builder.add_edge(\"combine\", END)\n",
        "\n",
        "graph = builder.compile()"
      ],
      "metadata": {
        "id": "d3wbDa9t8lQA"
      },
      "execution_count": null,
      "outputs": []
    },
    {
      "cell_type": "code",
      "source": [
        "graph"
      ],
      "metadata": {
        "id": "lZs1cSMU8r_s",
        "colab": {
          "base_uri": "https://localhost:8080/",
          "height": 350
        },
        "outputId": "65d1f415-e3ec-4d0d-ba10-96a0b92a0e9d"
      },
      "execution_count": null,
      "outputs": [
        {
          "output_type": "execute_result",
          "data": {
            "text/plain": [
              "<langgraph.graph.state.CompiledStateGraph object at 0x7c95165c4710>"
            ],
            "image/png": "[encoded data removed]"
          },
          "metadata": {},
          "execution_count": 36
        }
      ]
    },
    {
      "cell_type": "code",
      "source": [
        "# --- Run example ---\n",
        "input_text = \"Agentic AI architecture provides the structural framework for creating autonomous, goal-oriented AI systems that can reason, plan, and execute multi-step tasks with minimal human intervention.\"\n",
        "result = graph.invoke({\"text\": input_text, \"outputs\": []})\n",
        "\n",
        "print(\"\\nFinal outputs:\")\n",
        "for out in result[\"outputs\"]:\n",
        "    print(out)\n",
        "    print(\"=\"*100 + \"\\n\")"
      ],
      "metadata": {
        "id": "l8lYGYtj8uVL",
        "colab": {
          "base_uri": "https://localhost:8080/"
        },
        "outputId": "bce22db8-e346-46ea-f79b-6b978f2625af"
      },
      "execution_count": null,
      "outputs": [
        {
          "output_type": "stream",
          "name": "stdout",
          "text": [
            "\n",
            "Final outputs:\n",
            "Critique: The statement is clear, concise, and accurately captures the essence of agentic AI. It effectively describes **what agentic AI systems do** and **what the architecture enables**.\n",
            "\n",
            "**Critique:**\n",
            "\n",
            "While excellent for describing the *purpose* and *outcomes* of agentic AI, it leans more towards defining the *capabilities of the resulting systems* rather than explicitly detailing what constitutes the \"architectural framework\" itself. It doesn't mention typical architectural components (e.g., perception, world model, planning module, memory, action interfaces) which would usually be part of an \"architecture\" definition.\n",
            "\n",
            "**In short:** Great description of the *what* and *why*, but less about the *how* from an architectural component perspective.\n",
            "====================================================================================================\n",
            "\n",
            "Summary: Agentic AI architecture provides the structural framework for creating autonomous, goal-oriented AI systems that can reason, plan, and execute multi-step tasks with minimal human intervention.\n",
            "====================================================================================================\n",
            "\n",
            "Combined:\n",
            "Agentic AI architecture is lauded as the structural framework for developing autonomous, goal-oriented AI systems capable of reasoning, planning, and executing complex, multi-step tasks with minimal human intervention. However, while this vision is compelling, the practical realization of truly autonomous and reliable agentic systems presents significant challenges, including ensuring robust safety and ethical guardrails, managing the complexity of multi-step execution without failure, and the inherent difficulty in achieving the promised \"minimal human intervention\" in real-world, high-stakes scenarios.\n",
            "====================================================================================================\n",
            "\n"
          ]
        }
      ]
    },
    {
      "cell_type": "markdown",
      "source": [
        "Reflection"
      ],
      "metadata": {
        "id": "ELrthyJ78zBP"
      }
    },
    {
      "cell_type": "code",
      "source": [
        "# LLM client\n",
        "llm = ChatGoogleGenerativeAI(\n",
        "    model=\"gemini-2.5-flash\",\n",
        "    api_key=GOOGLE_API_KEY,\n",
        ")\n",
        "\n",
        "# State\n",
        "class State(TypedDict):\n",
        "    task: str\n",
        "    draft: str\n",
        "    feedback: str\n",
        "    final: str\n",
        "\n",
        "# Nodes\n",
        "def generator(state: State):\n",
        "    \"\"\"Generate an initial or refined draft.\"\"\"\n",
        "    prompt = f\"\"\"\n",
        "You are an assistant helping to complete the following task:\n",
        "\n",
        "Task:\n",
        "{state['task']}\n",
        "\n",
        "Current Draft:\n",
        "{state.get('draft', 'None')}\n",
        "\n",
        "Feedback:\n",
        "{state.get('feedback', 'None')}\n",
        "\n",
        "Instructions:\n",
        "- If there is no draft and no feedback, generate a clear and complete response to the task.\n",
        "- If there is a draft but no feedback, improve the draft as needed for clarity and quality.\n",
        "- If there is both a draft and feedback, revise the draft by incorporating the feedback directly.\n",
        "- Always produce a single, improved draft as your output.\n",
        "\"\"\"\n",
        "    resp = llm.invoke(prompt)\n",
        "    return {\"draft\": resp.content.strip()}\n",
        "\n",
        "def evaluator(state: State):\n",
        "    \"\"\"Evaluate the draft and give feedback or approval.\"\"\"\n",
        "    prompt = f\"\"\"Evaluate the following draft, based on the given task.\n",
        "If it meets the requirements, reply exactly 'APPROVED'.\n",
        "Otherwise, provide constructive feedback for improvement.\n",
        "Task:\n",
        "{state['task']}\n",
        "Draft:\n",
        "{state['draft']}\"\"\"\n",
        "    resp = llm.invoke(prompt)\n",
        "    print(f\"\"\"\n",
        "================= DRAFT =================\n",
        "{state['draft']}\n",
        "\n",
        "================ FEEDBACK ===============\n",
        "{resp.content.strip()}\n",
        "========================================\n",
        "\"\"\")\n",
        "    return {\"feedback\": resp.content.strip()}\n",
        "\n",
        "def decide(state: State) -> str:\n",
        "    \"\"\"Decide next step: either approve and finish, or refine again.\"\"\"\n",
        "    if \"APPROVED\" in state[\"feedback\"].upper():\n",
        "        return \"approved\"\n",
        "    return \"refine\"\n",
        "\n",
        "def finalize(state: State):\n",
        "    \"\"\"Save the final approved draft.\"\"\"\n",
        "    return {\"final\": state[\"draft\"]}\n",
        "\n",
        "# Build the graph\n",
        "builder = StateGraph(State)\n",
        "\n",
        "builder.add_node(\"generator\", generator)\n",
        "builder.add_node(\"evaluator\", evaluator)\n",
        "builder.add_node(\"finalize\", finalize)\n",
        "\n",
        "builder.add_edge(START, \"generator\")\n",
        "builder.add_edge(\"generator\", \"evaluator\")\n",
        "builder.add_edge(\"evaluator\", \"finalize\")\n",
        "\n",
        "# Conditional edges from decide\n",
        "builder.add_conditional_edges(\n",
        "    \"evaluator\",\n",
        "    decide,\n",
        "    {\n",
        "        \"approved\": \"finalize\",   # stop loop\n",
        "        \"refine\": \"generator\",    # go back for improvement\n",
        "    },\n",
        ")\n",
        "\n",
        "builder.add_edge(\"finalize\", END)\n",
        "\n",
        "graph = builder.compile()"
      ],
      "metadata": {
        "id": "ob5AjPC48uKs"
      },
      "execution_count": null,
      "outputs": []
    },
    {
      "cell_type": "code",
      "source": [
        "graph"
      ],
      "metadata": {
        "id": "9JntrItz8uHg",
        "colab": {
          "base_uri": "https://localhost:8080/",
          "height": 473
        },
        "outputId": "d0299cbb-9e3d-40bc-e086-e4a9baaab357"
      },
      "execution_count": null,
      "outputs": [
        {
          "output_type": "execute_result",
          "data": {
            "text/plain": [
              "<langgraph.graph.state.CompiledStateGraph object at 0x7c95165c46e0>"
            ],
            "image/png": "[encoded data removed]"
          },
          "metadata": {},
          "execution_count": 20
        }
      ]
    },
    {
      "cell_type": "code",
      "source": [
        "# Run example\n",
        "input_task = \"You have six horses and want to race them to see which is f astest. What is the best way to do this?\"\n",
        "result = graph.invoke({\"task\": input_task})\n",
        "\n",
        "print(\"\\nFinal Answer:\\n\", result[\"final\"])"
      ],
      "metadata": {
        "id": "eGcCnYZ29HHe",
        "colab": {
          "base_uri": "https://localhost:8080/"
        },
        "outputId": "f23bdd6c-ab6d-4f22-e3a9-f2aa2962b056"
      },
      "execution_count": null,
      "outputs": [
        {
          "output_type": "stream",
          "name": "stdout",
          "text": [
            "\n",
            "================= DRAFT =================\n",
            "The best way to determine which of six horses is fastest is to race them all simultaneously under identical conditions.\n",
            "\n",
            "Here's how:\n",
            "\n",
            "1.  **Preparation:** Ensure all six horses are properly prepared, with appropriate jockeys and in similar physical condition.\n",
            "2.  **Track Setup:** Use a standard race track that can accommodate all six horses. Ensure the track conditions (surface, distance, starting gate) are fair and uniform for all participants.\n",
            "3.  **The Race:** Start all six horses at the same time over a predetermined race distance.\n",
            "4.  **Observation:** The horse that crosses the finish line first is the fastest.\n",
            "\n",
            "This method directly compares all horses against each other in a single event, providing the most direct, fair, and efficient assessment of their speed.\n",
            "\n",
            "================ FEEDBACK ===============\n",
            "APPROVED\n",
            "========================================\n",
            "\n",
            "\n",
            "Final Answer:\n",
            " The best way to determine which of six horses is fastest is to race them all simultaneously under identical conditions.\n",
            "\n",
            "Here's how:\n",
            "\n",
            "1.  **Preparation:** Ensure all six horses are properly prepared, with appropriate jockeys and in similar physical condition.\n",
            "2.  **Track Setup:** Use a standard race track that can accommodate all six horses. Ensure the track conditions (surface, distance, starting gate) are fair and uniform for all participants.\n",
            "3.  **The Race:** Start all six horses at the same time over a predetermined race distance.\n",
            "4.  **Observation:** The horse that crosses the finish line first is the fastest.\n",
            "\n",
            "This method directly compares all horses against each other in a single event, providing the most direct, fair, and efficient assessment of their speed.\n"
          ]
        }
      ]
    },
    {
      "cell_type": "markdown",
      "source": [
        "Tool Use"
      ],
      "metadata": {
        "id": "cSTU-8eE9MnK"
      }
    },
    {
      "cell_type": "code",
      "source": [
        "# State definition\n",
        "class State(TypedDict):\n",
        "    messages: Annotated[list[AnyMessage], add_messages]\n",
        "\n",
        "# Define a simple tool\n",
        "def calculator(expression: str):\n",
        "    \"\"\"Evaluate a math expression.\"\"\"\n",
        "    try:\n",
        "        return str(eval(expression))\n",
        "    except Exception as e:\n",
        "        return f\"Error: {e}\"\n",
        "\n",
        "# Initialize Gemini model with tools\n",
        "llm = ChatGoogleGenerativeAI(\n",
        "    model=\"gemini-2.5-flash\",\n",
        "    api_key=GOOGLE_API_KEY,\n",
        ")\n",
        "\n",
        "model_with_tools = llm.bind_tools([calculator])\n",
        "tool_node = ToolNode([calculator])\n",
        "\n",
        "# Nodes\n",
        "def call_model(state: State):\n",
        "    \"\"\"Call the model; it may request a tool.\"\"\"\n",
        "    messages = state[\"messages\"]\n",
        "    response = model_with_tools.invoke(messages)\n",
        "    return {\"messages\": [response]}\n",
        "\n",
        "def should_continue(state: State):\n",
        "    \"\"\"Decide whether to go to tools or finish.\"\"\"\n",
        "    messages = state[\"messages\"]\n",
        "    last_message = messages[-1]\n",
        "    if last_message.tool_calls:  # If the model requested a tool\n",
        "        return \"tools\"\n",
        "    return END\n",
        "\n",
        "# Build the graph\n",
        "builder = StateGraph(State)\n",
        "\n",
        "builder.add_node(\"call_model\", call_model)\n",
        "builder.add_node(\"tools\", tool_node)\n",
        "\n",
        "builder.add_edge(START, \"call_model\")\n",
        "builder.add_conditional_edges(\"call_model\", should_continue, [\"tools\", END])\n",
        "builder.add_edge(\"tools\", \"call_model\")\n",
        "\n",
        "graph = builder.compile()"
      ],
      "metadata": {
        "id": "Xt2NVi8P9HEH"
      },
      "execution_count": null,
      "outputs": []
    },
    {
      "cell_type": "code",
      "source": [
        "graph"
      ],
      "metadata": {
        "id": "Z1PFyETI9G_-",
        "colab": {
          "base_uri": "https://localhost:8080/",
          "height": 266
        },
        "outputId": "5c8809f5-7727-4c4b-e254-49873d71016b"
      },
      "execution_count": null,
      "outputs": [
        {
          "output_type": "execute_result",
          "data": {
            "text/plain": [
              "<langgraph.graph.state.CompiledStateGraph object at 0x7c9516530b00>"
            ],
            "image/png": "[encoded data removed]"
          },
          "metadata": {},
          "execution_count": 29
        }
      ]
    },
    {
      "cell_type": "code",
      "source": [
        "# Run example\n",
        "query = {\"role\": \"user\", \"content\": \"What is ((((9+5)-56)*50)/2)\"}\n",
        "result = graph.invoke({\"messages\": [query]})\n",
        "\n",
        "print(\"\\nConversation:\")\n",
        "for m in result[\"messages\"]:\n",
        "    print(m)"
      ],
      "metadata": {
        "id": "AbVsEd7a9G8n",
        "colab": {
          "base_uri": "https://localhost:8080/"
        },
        "outputId": "83642f80-a85f-4a2f-95f6-3e2b93f9def6"
      },
      "execution_count": null,
      "outputs": [
        {
          "output_type": "stream",
          "name": "stdout",
          "text": [
            "\n",
            "Conversation:\n",
            "content='What is ((((9+5)-56)*50)/2)' additional_kwargs={} response_metadata={} id='350f51d0-28a2-4ecc-8727-e83336a29609'\n",
            "content='' additional_kwargs={'function_call': {'name': 'calculator', 'arguments': '{\"expression\": \"(((9+5)-56)*50)/2\"}'}} response_metadata={'prompt_feedback': {'block_reason': 0, 'safety_ratings': []}, 'finish_reason': 'STOP', 'safety_ratings': []} id='run--6077a7b7-03ab-43da-b5fb-8270207feee0-0' tool_calls=[{'name': 'calculator', 'args': {'expression': '(((9+5)-56)*50)/2'}, 'id': '55f5c5ce-e153-45ef-8baa-1d8c46c2f624', 'type': 'tool_call'}] usage_metadata={'input_tokens': 52, 'output_tokens': 24, 'total_tokens': 112, 'input_token_details': {'cache_read': 0}}\n",
            "content='-1050.0' name='calculator' id='87214f4d-cee2-48e6-9ade-8772b39332b8' tool_call_id='55f5c5ce-e153-45ef-8baa-1d8c46c2f624'\n",
            "content='The result is -1050.' additional_kwargs={} response_metadata={'prompt_feedback': {'block_reason': 0, 'safety_ratings': []}, 'finish_reason': 'STOP', 'safety_ratings': []} id='run--f6e8b0ad-eabf-4bb2-850f-e2032edb1326-0' usage_metadata={'input_tokens': 92, 'output_tokens': 9, 'total_tokens': 101, 'input_token_details': {'cache_read': 0}}\n"
          ]
        }
      ]
    },
    {
      "cell_type": "markdown",
      "source": [
        "Planning"
      ],
      "metadata": {
        "id": "WJrz9_Mu9cy4"
      }
    },
    {
      "cell_type": "code",
      "source": [
        "# Set up the Language Model\n",
        "llm = ChatGoogleGenerativeAI(\n",
        "    model=\"gemini-2.0-flash\",\n",
        "    api_key=GOOGLE_API_KEY,\n",
        ")\n",
        "\n",
        "# Define the State\n",
        "# We need separate fields for each worker's results.\n",
        "class PlannerState(TypedDict):\n",
        "    task: str\n",
        "    plan: list[str]\n",
        "    graphql_results: str  # Results from the GraphQL researcher\n",
        "    rest_results: str     # Results from the REST researcher\n",
        "    final_output: str     # The final written summary\n",
        "\n",
        "# Define the Tools and Workers\n",
        "\n",
        "# Dummy tools for our researchers\n",
        "def graphql_search_tool(query: str):\n",
        "    \"\"\"A dummy tool that returns fixed info about GraphQL.\"\"\"\n",
        "    print(f\"GRAPHQL RESEARCHER: Searching for '{query}'\")\n",
        "    return \"GraphQL Pros: Efficient data fetching (no over-fetching), single endpoint, strongly typed schema.\"\n",
        "\n",
        "def rest_search_tool(query: str):\n",
        "    \"\"\"A dummy tool that returns fixed info about REST.\"\"\"\n",
        "    print(f\"REST RESEARCHER: Searching for '{query}'\")\n",
        "    return \"REST API Cons: Can lead to over or under-fetching data, requires multiple round-trips for complex queries, URL-based structure can be rigid.\"\n",
        "\n",
        "# Worker Nodes\n",
        "def graphql_research_worker(state: PlannerState):\n",
        "    \"\"\"Worker node that researches GraphQL pros.\"\"\"\n",
        "    results = graphql_search_tool(\"pros of GraphQL\")\n",
        "    return {\"graphql_results\": results}\n",
        "\n",
        "def rest_research_worker(state: PlannerState):\n",
        "    \"\"\"Worker node that researches REST cons.\"\"\"\n",
        "    results = rest_search_tool(\"cons of REST APIs\")\n",
        "    return {\"rest_results\": results}\n",
        "\n",
        "def writer_worker(state: PlannerState):\n",
        "    \"\"\"\n",
        "    Synthesizer node that waits for all research and writes the final output.\n",
        "    This node acts as the \"join\" point.\n",
        "    \"\"\"\n",
        "    print(\"WRITER: Synthesizing results\")\n",
        "    graphql_results = state['graphql_results']\n",
        "    rest_results = state['rest_results']\n",
        "\n",
        "    writing_prompt = f\"\"\"\n",
        "    Write a short, balanced comparison post based on the following research.\n",
        "\n",
        "    GraphQL Information:\n",
        "    {graphql_results}\n",
        "\n",
        "    REST API Information:\n",
        "    {rest_results}\n",
        "    \"\"\"\n",
        "    response = llm.invoke(writing_prompt)\n",
        "    return {\"final_output\": response.content}\n",
        "\n",
        "# Define the Planner\n",
        "def planner(state: PlannerState):\n",
        "    \"\"\"Planner node that creates the initial plan.\"\"\"\n",
        "    print(\"PLANNER: Creating a plan for parallel execution\")\n",
        "    # For this example, the plan is hardcoded.\n",
        "    # In a real app, an LLM would generate this based on the task.\n",
        "    plan = [\n",
        "        \"Research GraphQL pros\",\n",
        "        \"Research REST cons\",\n",
        "        \"Write comparison post\"\n",
        "    ]\n",
        "    return {\"plan\": plan}\n",
        "\n",
        "# Build the Graph\n",
        "workflow = StateGraph(PlannerState)\n",
        "\n",
        "# Add the nodes\n",
        "workflow.add_node(\"planner\", planner)\n",
        "workflow.add_node(\"graphql_researcher\", graphql_research_worker)\n",
        "workflow.add_node(\"rest_researcher\", rest_research_worker)\n",
        "workflow.add_node(\"writer\", writer_worker)\n",
        "\n",
        "# Set the entry point\n",
        "workflow.set_entry_point(\"planner\")\n",
        "\n",
        "# Define the parallel edges\n",
        "# After the planner, both research workers are called.\n",
        "workflow.add_edge(\"planner\", \"graphql_researcher\")\n",
        "workflow.add_edge(\"planner\", \"rest_researcher\")\n",
        "\n",
        "# Define the join point\n",
        "# The writer will only run after BOTH research workers are complete.\n",
        "workflow.add_edge(\"graphql_researcher\", \"writer\")\n",
        "workflow.add_edge(\"rest_researcher\", \"writer\")\n",
        "\n",
        "# The graph ends after the writer is done\n",
        "workflow.add_edge(\"writer\", END)\n",
        "\n",
        "# Compile the graph\n",
        "graph = workflow.compile()"
      ],
      "metadata": {
        "id": "-4qeDbLt9hbG"
      },
      "execution_count": null,
      "outputs": []
    },
    {
      "cell_type": "code",
      "source": [
        "graph"
      ],
      "metadata": {
        "id": "J-f4dbHt9kG8",
        "colab": {
          "base_uri": "https://localhost:8080/",
          "height": 449
        },
        "outputId": "b19cca05-a68a-4efa-8741-20c3b4c3ab14"
      },
      "execution_count": null,
      "outputs": [
        {
          "output_type": "execute_result",
          "data": {
            "text/plain": [
              "<langgraph.graph.state.CompiledStateGraph object at 0x7c95165c69c0>"
            ],
            "image/png": "[encoded data removed]"
          },
          "metadata": {},
          "execution_count": 32
        }
      ]
    },
    {
      "cell_type": "code",
      "source": [
        "# Run the Graph\n",
        "user_task = \"Write a short post comparing the pros of GraphQL with the cons of REST APIs and role of both in data aggregation .\"\n",
        "initial_state = {\"task\": user_task}\n",
        "\n",
        "# Stream the events to see the execution flow\n",
        "for event in graph.stream(initial_state):\n",
        "    for key, value in event.items():\n",
        "        print(f\"Node '{key}' output:\")\n",
        "        print(\"---\")\n",
        "        print(value)\n",
        "        print(\"\\n\" + \"=\"*30 + \"\\n\")\n",
        "\n",
        "# Get the final output\n",
        "final_state = graph.invoke(initial_state)\n",
        "print(\"Final Comparison Post:\")\n",
        "print(final_state['final_output'])"
      ],
      "metadata": {
        "id": "c6XCc71x9oJm",
        "colab": {
          "base_uri": "https://localhost:8080/"
        },
        "outputId": "64729690-79b3-41d4-c9d2-a09af5081c9c"
      },
      "execution_count": null,
      "outputs": [
        {
          "output_type": "stream",
          "name": "stdout",
          "text": [
            "PLANNER: Creating a plan for parallel execution\n",
            "Node 'planner' output:\n",
            "---\n",
            "{'plan': ['Research GraphQL pros', 'Research REST cons', 'Write comparison post']}\n",
            "\n",
            "==============================\n",
            "\n",
            "GRAPHQL RESEARCHER: Searching for 'pros of GraphQL'\n",
            "Node 'graphql_researcher' output:\n",
            "---\n",
            "{'graphql_results': 'GraphQL Pros: Efficient data fetching (no over-fetching), single endpoint, strongly typed schema.'}\n",
            "\n",
            "==============================\n",
            "\n",
            "REST RESEARCHER: Searching for 'cons of REST APIs'\n",
            "Node 'rest_researcher' output:\n",
            "---\n",
            "{'rest_results': 'REST API Cons: Can lead to over or under-fetching data, requires multiple round-trips for complex queries, URL-based structure can be rigid.'}\n",
            "\n",
            "==============================\n",
            "\n",
            "WRITER: Synthesizing results\n",
            "Node 'writer' output:\n",
            "---\n",
            "{'final_output': '## GraphQL vs. REST APIs: A Quick Comparison\\n\\nWhen building APIs, developers often face the choice between GraphQL and REST APIs. Both approaches have their strengths and weaknesses, and the best choice depends on the specific needs of your project.\\n\\n**GraphQL shines in data efficiency and flexibility.** Its key advantages include:\\n\\n*   **Efficient Data Fetching:** GraphQL allows clients to request only the data they need, eliminating over-fetching and reducing payload sizes.\\n*   **Single Endpoint:** A single endpoint handles all queries, simplifying API management.\\n*   **Strongly Typed Schema:** The schema ensures data consistency and provides valuable documentation.\\n\\n**REST APIs, while widely adopted, can present challenges.** Some drawbacks include:\\n\\n*   **Over or Under-Fetching:** REST endpoints can deliver more or less data than required, leading to inefficiencies.\\n*   **Multiple Round-Trips:** Complex data requirements often necessitate multiple requests to different endpoints.\\n*   **Rigid URL Structure:** The URL-based structure can be inflexible and difficult to adapt to evolving needs.\\n\\n**In conclusion, GraphQL offers advantages in scenarios requiring precise data control and complex queries, while REST APIs remain a viable option for simpler, more straightforward data access needs. Carefully consider your project requirements to determine the best fit.**'}\n",
            "\n",
            "==============================\n",
            "\n",
            "PLANNER: Creating a plan for parallel execution\n",
            "GRAPHQL RESEARCHER: Searching for 'pros of GraphQL'\n",
            "REST RESEARCHER: Searching for 'cons of REST APIs'\n",
            "WRITER: Synthesizing results\n",
            "Final Comparison Post:\n",
            "## GraphQL vs. REST APIs: A Quick Comparison\n",
            "\n",
            "Choosing the right API architecture is crucial for any application. Both GraphQL and REST APIs offer ways to access and manipulate data, but they differ significantly in their approach.\n",
            "\n",
            "**REST APIs**, a well-established standard, utilize multiple endpoints based on URLs. While simple to understand and implement initially, REST can suffer from **over-fetching or under-fetching data**, requiring multiple requests for complex queries. This can lead to performance bottlenecks.\n",
            "\n",
            "**GraphQL**, on the other hand, boasts **efficient data fetching** by allowing clients to request precisely the data they need, avoiding unnecessary information transfer. Its **single endpoint** simplifies the API structure, and its **strongly typed schema** enhances reliability and developer tooling.\n",
            "\n",
            "In summary, while REST APIs offer familiarity and a straightforward starting point, GraphQL shines in scenarios demanding optimized data retrieval and complex queries. The best choice depends on the specific needs and complexity of your project.\n"
          ]
        }
      ]
    }
  ]
}