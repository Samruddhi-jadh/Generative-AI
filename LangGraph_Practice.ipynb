{
  "nbformat": 4,
  "nbformat_minor": 0,
  "metadata": {
    "colab": {
      "provenance": [],
      "gpuType": "V5E1"
    },
    "kernelspec": {
      "name": "python3",
      "display_name": "Python 3"
    },
    "language_info": {
      "name": "python"
    },
    "accelerator": "TPU"
  },
  "cells": [
    {
      "cell_type": "markdown",
      "source": [
        "**Type Anotations In LangGraph**"
      ],
      "metadata": {
        "id": "R9z8JflX_WFg"
      }
    },
    {
      "cell_type": "code",
      "execution_count": 1,
      "metadata": {
        "id": "8QS1nq1n972Z"
      },
      "outputs": [],
      "source": [
        "#Typed Dictionary\n",
        "from typing import TypedDict\n",
        "class Movie(TypedDict):\n",
        "  name:str\n",
        "  year:int\n",
        "\n",
        "movie=Movie(name=\"Avengers Endgame\",year=2025)"
      ]
    },
    {
      "cell_type": "code",
      "source": [
        "print(movie)"
      ],
      "metadata": {
        "colab": {
          "base_uri": "https://localhost:8080/"
        },
        "id": "OuGEEXXR-uFn",
        "outputId": "664eafb2-0aec-4e3a-87f8-5b51cb2875dd"
      },
      "execution_count": 2,
      "outputs": [
        {
          "output_type": "stream",
          "name": "stdout",
          "text": [
            "{'name': 'Avengers Endgame', 'year': 2025}\n"
          ]
        }
      ]
    },
    {
      "cell_type": "code",
      "source": [
        "#Union\n",
        "from typing import Union\n",
        "\n",
        "def square(x: Union[int, float]) -> float:\n",
        "    return x * x\n",
        "# Test with int\n",
        "x = 12\n",
        "print(\"Square of\", x, \"is\", square(x))\n",
        "\n",
        "# Test with float\n",
        "x = 9.61\n",
        "print(\"Square of\", x, \"is\", square(x))\n",
        "\n",
        "# Test with string (not allowed in function)\n",
        "x = 'India Is My Country'\n",
        "try:\n",
        "    print(\"Square of\", x, \"is\", square(x))\n",
        "except TypeError as e:\n",
        "    print(\"Error:\", e)\n"
      ],
      "metadata": {
        "colab": {
          "base_uri": "https://localhost:8080/"
        },
        "id": "yBPxMLqV-19R",
        "outputId": "dc33ba4c-a1e7-4c14-b126-6ca23a895e9b"
      },
      "execution_count": 3,
      "outputs": [
        {
          "output_type": "stream",
          "name": "stdout",
          "text": [
            "Square of 12 is 144\n",
            "Square of 9.61 is 92.3521\n",
            "Error: can't multiply sequence by non-int of type 'str'\n"
          ]
        }
      ]
    },
    {
      "cell_type": "code",
      "source": [
        "#Optional\n",
        "from typing import Optional\n",
        "def nice_message(name: Optional[str])->None:\n",
        "  if name is None:\n",
        "    print(\"Hey Person\")\n",
        "  else:\n",
        "    print(f\"Hi There,{name}\")\n",
        "\n",
        "nice_message(\"Krishna\")"
      ],
      "metadata": {
        "colab": {
          "base_uri": "https://localhost:8080/"
        },
        "id": "RHY3yd4w_eCe",
        "outputId": "655fea30-9162-458c-b9e4-0fd92e3263aa"
      },
      "execution_count": 4,
      "outputs": [
        {
          "output_type": "stream",
          "name": "stdout",
          "text": [
            "Hi There,Krishna\n"
          ]
        }
      ]
    },
    {
      "cell_type": "code",
      "source": [
        "nice_message(None)"
      ],
      "metadata": {
        "colab": {
          "base_uri": "https://localhost:8080/"
        },
        "id": "VRlDT6z5AhsM",
        "outputId": "85ca2ff1-bc21-478e-bab2-5d506ac48d73"
      },
      "execution_count": 5,
      "outputs": [
        {
          "output_type": "stream",
          "name": "stdout",
          "text": [
            "Hey Person\n"
          ]
        }
      ]
    },
    {
      "cell_type": "code",
      "source": [
        "#Any\n",
        "from typing import Any\n",
        "def print_value(x: Any):\n",
        "  print(x)           # Anything and everything is allowed\n",
        "\n",
        "print_value(\"I Am Indian\")\n",
        "print_value(2025)\n",
        "print_value(8.1)"
      ],
      "metadata": {
        "colab": {
          "base_uri": "https://localhost:8080/"
        },
        "id": "VyT3nH70C2_V",
        "outputId": "c69faefc-6921-43a9-88bc-5ec2ab60f2e1"
      },
      "execution_count": 6,
      "outputs": [
        {
          "output_type": "stream",
          "name": "stdout",
          "text": [
            "I Am Indian\n",
            "2025\n",
            "8.1\n"
          ]
        }
      ]
    },
    {
      "cell_type": "code",
      "source": [
        "#Lambda Function\n",
        "square=lambda x:x*x\n",
        "square(12)"
      ],
      "metadata": {
        "colab": {
          "base_uri": "https://localhost:8080/"
        },
        "id": "YBRvSNmlDwLc",
        "outputId": "a246f2e5-181e-4441-fdb6-47016b0dedd3"
      },
      "execution_count": 7,
      "outputs": [
        {
          "output_type": "execute_result",
          "data": {
            "text/plain": [
              "144"
            ]
          },
          "metadata": {},
          "execution_count": 7
        }
      ]
    },
    {
      "cell_type": "code",
      "source": [
        "nums=[1,2,3,4,5]\n",
        "square_list=list(map(lambda x:x*x,nums))\n",
        "print(square_list)"
      ],
      "metadata": {
        "colab": {
          "base_uri": "https://localhost:8080/"
        },
        "id": "qaM9quAzEZrx",
        "outputId": "2e1fe78b-c9d9-485a-eae0-596c42fd54cf"
      },
      "execution_count": 8,
      "outputs": [
        {
          "output_type": "stream",
          "name": "stdout",
          "text": [
            "[1, 4, 9, 16, 25]\n"
          ]
        }
      ]
    },
    {
      "cell_type": "markdown",
      "source": [
        "**Graph |**"
      ],
      "metadata": {
        "id": "YQQKPgVGFGwb"
      }
    },
    {
      "cell_type": "code",
      "source": [
        "pip install langgraph"
      ],
      "metadata": {
        "colab": {
          "base_uri": "https://localhost:8080/"
        },
        "id": "2_m0tY39FzCl",
        "outputId": "2c469fd2-982a-4536-eb4d-b5e6ca471262"
      },
      "execution_count": 9,
      "outputs": [
        {
          "output_type": "stream",
          "name": "stdout",
          "text": [
            "Collecting langgraph\n",
            "  Downloading langgraph-1.0.1-py3-none-any.whl.metadata (7.4 kB)\n",
            "Collecting langchain-core>=0.1 (from langgraph)\n",
            "  Downloading langchain_core-1.0.1-py3-none-any.whl.metadata (3.5 kB)\n",
            "Collecting langgraph-checkpoint<4.0.0,>=2.1.0 (from langgraph)\n",
            "  Downloading langgraph_checkpoint-3.0.0-py3-none-any.whl.metadata (4.2 kB)\n",
            "Collecting langgraph-prebuilt<1.1.0,>=1.0.0 (from langgraph)\n",
            "  Downloading langgraph_prebuilt-1.0.1-py3-none-any.whl.metadata (5.0 kB)\n",
            "Collecting langgraph-sdk<0.3.0,>=0.2.2 (from langgraph)\n",
            "  Downloading langgraph_sdk-0.2.9-py3-none-any.whl.metadata (1.5 kB)\n",
            "Requirement already satisfied: pydantic>=2.7.4 in /usr/local/lib/python3.12/dist-packages (from langgraph) (2.12.3)\n",
            "Collecting xxhash>=3.5.0 (from langgraph)\n",
            "  Downloading xxhash-3.6.0-cp312-cp312-manylinux2014_x86_64.manylinux_2_17_x86_64.manylinux_2_28_x86_64.whl.metadata (13 kB)\n",
            "Collecting jsonpatch<2.0.0,>=1.33.0 (from langchain-core>=0.1->langgraph)\n",
            "  Downloading jsonpatch-1.33-py2.py3-none-any.whl.metadata (3.0 kB)\n",
            "Collecting langsmith<1.0.0,>=0.3.45 (from langchain-core>=0.1->langgraph)\n",
            "  Downloading langsmith-0.4.38-py3-none-any.whl.metadata (14 kB)\n",
            "Requirement already satisfied: packaging<26.0.0,>=23.2.0 in /usr/local/lib/python3.12/dist-packages (from langchain-core>=0.1->langgraph) (25.0)\n",
            "Requirement already satisfied: pyyaml<7.0.0,>=5.3.0 in /usr/local/lib/python3.12/dist-packages (from langchain-core>=0.1->langgraph) (6.0.3)\n",
            "Requirement already satisfied: tenacity!=8.4.0,<10.0.0,>=8.1.0 in /usr/local/lib/python3.12/dist-packages (from langchain-core>=0.1->langgraph) (9.1.2)\n",
            "Requirement already satisfied: typing-extensions<5.0.0,>=4.7.0 in /usr/local/lib/python3.12/dist-packages (from langchain-core>=0.1->langgraph) (4.15.0)\n",
            "Collecting ormsgpack>=1.10.0 (from langgraph-checkpoint<4.0.0,>=2.1.0->langgraph)\n",
            "  Downloading ormsgpack-1.11.0-cp312-cp312-manylinux_2_17_x86_64.manylinux2014_x86_64.whl.metadata (1.2 kB)\n",
            "Requirement already satisfied: httpx>=0.25.2 in /usr/local/lib/python3.12/dist-packages (from langgraph-sdk<0.3.0,>=0.2.2->langgraph) (0.28.1)\n",
            "Collecting orjson>=3.10.1 (from langgraph-sdk<0.3.0,>=0.2.2->langgraph)\n",
            "  Downloading orjson-3.11.4-cp312-cp312-manylinux_2_17_x86_64.manylinux2014_x86_64.whl.metadata (41 kB)\n",
            "\u001b[2K     \u001b[90m━━━━━━━━━━━━━━━━━━━━━━━━━━━━━━━━━━━━━━━━\u001b[0m \u001b[32m41.8/41.8 kB\u001b[0m \u001b[31m3.1 MB/s\u001b[0m eta \u001b[36m0:00:00\u001b[0m\n",
            "\u001b[?25hRequirement already satisfied: annotated-types>=0.6.0 in /usr/local/lib/python3.12/dist-packages (from pydantic>=2.7.4->langgraph) (0.7.0)\n",
            "Requirement already satisfied: pydantic-core==2.41.4 in /usr/local/lib/python3.12/dist-packages (from pydantic>=2.7.4->langgraph) (2.41.4)\n",
            "Requirement already satisfied: typing-inspection>=0.4.2 in /usr/local/lib/python3.12/dist-packages (from pydantic>=2.7.4->langgraph) (0.4.2)\n",
            "Requirement already satisfied: anyio in /usr/local/lib/python3.12/dist-packages (from httpx>=0.25.2->langgraph-sdk<0.3.0,>=0.2.2->langgraph) (4.11.0)\n",
            "Requirement already satisfied: certifi in /usr/local/lib/python3.12/dist-packages (from httpx>=0.25.2->langgraph-sdk<0.3.0,>=0.2.2->langgraph) (2025.10.5)\n",
            "Requirement already satisfied: httpcore==1.* in /usr/local/lib/python3.12/dist-packages (from httpx>=0.25.2->langgraph-sdk<0.3.0,>=0.2.2->langgraph) (1.0.9)\n",
            "Requirement already satisfied: idna in /usr/local/lib/python3.12/dist-packages (from httpx>=0.25.2->langgraph-sdk<0.3.0,>=0.2.2->langgraph) (3.11)\n",
            "Requirement already satisfied: h11>=0.16 in /usr/local/lib/python3.12/dist-packages (from httpcore==1.*->httpx>=0.25.2->langgraph-sdk<0.3.0,>=0.2.2->langgraph) (0.16.0)\n",
            "Requirement already satisfied: jsonpointer>=1.9 in /usr/local/lib/python3.12/dist-packages (from jsonpatch<2.0.0,>=1.33.0->langchain-core>=0.1->langgraph) (3.0.0)\n",
            "Collecting requests-toolbelt>=1.0.0 (from langsmith<1.0.0,>=0.3.45->langchain-core>=0.1->langgraph)\n",
            "  Downloading requests_toolbelt-1.0.0-py2.py3-none-any.whl.metadata (14 kB)\n",
            "Requirement already satisfied: requests>=2.0.0 in /usr/local/lib/python3.12/dist-packages (from langsmith<1.0.0,>=0.3.45->langchain-core>=0.1->langgraph) (2.32.4)\n",
            "Collecting zstandard>=0.23.0 (from langsmith<1.0.0,>=0.3.45->langchain-core>=0.1->langgraph)\n",
            "  Downloading zstandard-0.25.0-cp312-cp312-manylinux2014_x86_64.manylinux_2_17_x86_64.whl.metadata (3.3 kB)\n",
            "Requirement already satisfied: charset_normalizer<4,>=2 in /usr/local/lib/python3.12/dist-packages (from requests>=2.0.0->langsmith<1.0.0,>=0.3.45->langchain-core>=0.1->langgraph) (3.4.4)\n",
            "Requirement already satisfied: urllib3<3,>=1.21.1 in /usr/local/lib/python3.12/dist-packages (from requests>=2.0.0->langsmith<1.0.0,>=0.3.45->langchain-core>=0.1->langgraph) (2.5.0)\n",
            "Requirement already satisfied: sniffio>=1.1 in /usr/local/lib/python3.12/dist-packages (from anyio->httpx>=0.25.2->langgraph-sdk<0.3.0,>=0.2.2->langgraph) (1.3.1)\n",
            "Downloading langgraph-1.0.1-py3-none-any.whl (155 kB)\n",
            "\u001b[2K   \u001b[90m━━━━━━━━━━━━━━━━━━━━━━━━━━━━━━━━━━━━━━━━\u001b[0m \u001b[32m155.4/155.4 kB\u001b[0m \u001b[31m12.2 MB/s\u001b[0m eta \u001b[36m0:00:00\u001b[0m\n",
            "\u001b[?25hDownloading langchain_core-1.0.1-py3-none-any.whl (467 kB)\n",
            "\u001b[2K   \u001b[90m━━━━━━━━━━━━━━━━━━━━━━━━━━━━━━━━━━━━━━━━\u001b[0m \u001b[32m467.1/467.1 kB\u001b[0m \u001b[31m31.4 MB/s\u001b[0m eta \u001b[36m0:00:00\u001b[0m\n",
            "\u001b[?25hDownloading langgraph_checkpoint-3.0.0-py3-none-any.whl (46 kB)\n",
            "\u001b[2K   \u001b[90m━━━━━━━━━━━━━━━━━━━━━━━━━━━━━━━━━━━━━━━━\u001b[0m \u001b[32m46.1/46.1 kB\u001b[0m \u001b[31m5.2 MB/s\u001b[0m eta \u001b[36m0:00:00\u001b[0m\n",
            "\u001b[?25hDownloading langgraph_prebuilt-1.0.1-py3-none-any.whl (28 kB)\n",
            "Downloading langgraph_sdk-0.2.9-py3-none-any.whl (56 kB)\n",
            "\u001b[2K   \u001b[90m━━━━━━━━━━━━━━━━━━━━━━━━━━━━━━━━━━━━━━━━\u001b[0m \u001b[32m56.8/56.8 kB\u001b[0m \u001b[31m5.8 MB/s\u001b[0m eta \u001b[36m0:00:00\u001b[0m\n",
            "\u001b[?25hDownloading xxhash-3.6.0-cp312-cp312-manylinux2014_x86_64.manylinux_2_17_x86_64.manylinux_2_28_x86_64.whl (193 kB)\n",
            "\u001b[2K   \u001b[90m━━━━━━━━━━━━━━━━━━━━━━━━━━━━━━━━━━━━━━━━\u001b[0m \u001b[32m193.9/193.9 kB\u001b[0m \u001b[31m20.2 MB/s\u001b[0m eta \u001b[36m0:00:00\u001b[0m\n",
            "\u001b[?25hDownloading jsonpatch-1.33-py2.py3-none-any.whl (12 kB)\n",
            "Downloading langsmith-0.4.38-py3-none-any.whl (397 kB)\n",
            "\u001b[2K   \u001b[90m━━━━━━━━━━━━━━━━━━━━━━━━━━━━━━━━━━━━━━━━\u001b[0m \u001b[32m397.3/397.3 kB\u001b[0m \u001b[31m39.3 MB/s\u001b[0m eta \u001b[36m0:00:00\u001b[0m\n",
            "\u001b[?25hDownloading orjson-3.11.4-cp312-cp312-manylinux_2_17_x86_64.manylinux2014_x86_64.whl (136 kB)\n",
            "\u001b[2K   \u001b[90m━━━━━━━━━━━━━━━━━━━━━━━━━━━━━━━━━━━━━━━━\u001b[0m \u001b[32m136.3/136.3 kB\u001b[0m \u001b[31m14.1 MB/s\u001b[0m eta \u001b[36m0:00:00\u001b[0m\n",
            "\u001b[?25hDownloading ormsgpack-1.11.0-cp312-cp312-manylinux_2_17_x86_64.manylinux2014_x86_64.whl (207 kB)\n",
            "\u001b[2K   \u001b[90m━━━━━━━━━━━━━━━━━━━━━━━━━━━━━━━━━━━━━━━━\u001b[0m \u001b[32m207.6/207.6 kB\u001b[0m \u001b[31m22.3 MB/s\u001b[0m eta \u001b[36m0:00:00\u001b[0m\n",
            "\u001b[?25hDownloading requests_toolbelt-1.0.0-py2.py3-none-any.whl (54 kB)\n",
            "\u001b[2K   \u001b[90m━━━━━━━━━━━━━━━━━━━━━━━━━━━━━━━━━━━━━━━━\u001b[0m \u001b[32m54.5/54.5 kB\u001b[0m \u001b[31m6.1 MB/s\u001b[0m eta \u001b[36m0:00:00\u001b[0m\n",
            "\u001b[?25hDownloading zstandard-0.25.0-cp312-cp312-manylinux2014_x86_64.manylinux_2_17_x86_64.whl (5.5 MB)\n",
            "\u001b[2K   \u001b[90m━━━━━━━━━━━━━━━━━━━━━━━━━━━━━━━━━━━━━━━━\u001b[0m \u001b[32m5.5/5.5 MB\u001b[0m \u001b[31m149.1 MB/s\u001b[0m eta \u001b[36m0:00:00\u001b[0m\n",
            "\u001b[?25hInstalling collected packages: zstandard, xxhash, ormsgpack, orjson, jsonpatch, requests-toolbelt, langsmith, langgraph-sdk, langchain-core, langgraph-checkpoint, langgraph-prebuilt, langgraph\n",
            "Successfully installed jsonpatch-1.33 langchain-core-1.0.1 langgraph-1.0.1 langgraph-checkpoint-3.0.0 langgraph-prebuilt-1.0.1 langgraph-sdk-0.2.9 langsmith-0.4.38 orjson-3.11.4 ormsgpack-1.11.0 requests-toolbelt-1.0.0 xxhash-3.6.0 zstandard-0.25.0\n"
          ]
        }
      ]
    },
    {
      "cell_type": "code",
      "source": [
        "from typing import Dict, TypedDict\n",
        "from langgraph.graph import StateGraph\n"
      ],
      "metadata": {
        "id": "VaIv5M2SFGfw"
      },
      "execution_count": 10,
      "outputs": []
    },
    {
      "cell_type": "code",
      "source": [
        "class AgentState(TypedDict):\n",
        "  message:str\n",
        "\n",
        "def greeting_node(state: AgentState)-> AgentState:\n",
        "  \"\"\"Simple Node That Adds A Greeting Message To The State\"\"\"\n",
        "  state['message']='Hey ' +state['message']+\", how is your day going ? Nice to meet you\"\n",
        "  return state"
      ],
      "metadata": {
        "id": "t1ez4JvyEl4i"
      },
      "execution_count": 11,
      "outputs": []
    },
    {
      "cell_type": "code",
      "source": [
        "graph=StateGraph(AgentState)\n",
        "graph.add_node(\"greeter\",greeting_node)\n",
        "graph.set_entry_point(\"greeter\")\n",
        "graph.set_finish_point(\"greeter\")\n",
        "\n",
        "app=graph.compile()"
      ],
      "metadata": {
        "id": "aSx9IGyHGvO9"
      },
      "execution_count": 12,
      "outputs": []
    },
    {
      "cell_type": "code",
      "source": [
        "from IPython.display import Image,display\n",
        "display(Image(app.get_graph().draw_mermaid_png()))"
      ],
      "metadata": {
        "colab": {
          "base_uri": "https://localhost:8080/",
          "height": 251
        },
        "id": "LuIF51cGHSSB",
        "outputId": "1ec301ca-b042-493c-c404-76a54ca41dfa"
      },
      "execution_count": 13,
      "outputs": [
        {
          "output_type": "display_data",
          "data": {
            "image/png": "[encoded data removed]",
            "text/plain": [
              "<IPython.core.display.Image object>"
            ]
          },
          "metadata": {}
        }
      ]
    },
    {
      "cell_type": "code",
      "source": [
        "result=app.invoke({\"message\":\"Krishna\"})"
      ],
      "metadata": {
        "id": "NCdH2TikILMD"
      },
      "execution_count": 14,
      "outputs": []
    },
    {
      "cell_type": "code",
      "source": [
        "result[\"message\"]"
      ],
      "metadata": {
        "colab": {
          "base_uri": "https://localhost:8080/",
          "height": 36
        },
        "id": "mSCeLk0zIVrW",
        "outputId": "6c512d91-756a-443e-d287-57daee719ce0"
      },
      "execution_count": 15,
      "outputs": [
        {
          "output_type": "execute_result",
          "data": {
            "text/plain": [
              "'Hey Krishna, how is your day going ? Nice to meet you'"
            ],
            "application/vnd.google.colaboratory.intrinsic+json": {
              "type": "string"
            }
          },
          "metadata": {},
          "execution_count": 15
        }
      ]
    },
    {
      "cell_type": "markdown",
      "source": [
        "**GRAPH ||**"
      ],
      "metadata": {
        "id": "lQHHi0i-N-FW"
      }
    },
    {
      "cell_type": "code",
      "source": [
        "from typing import TypedDict\n",
        "class ComplimetState(TypedDict):\n",
        "  name:str\n",
        "  mood:str  # e.g.,'Sad',\"Happy\"\n",
        "  phrase:str"
      ],
      "metadata": {
        "id": "RtvCoXrzN2Ew"
      },
      "execution_count": 16,
      "outputs": []
    },
    {
      "cell_type": "code",
      "source": [
        "def complement_node(state:ComplimetState)->ComplimetState:\n",
        "  \"\"\"Simple Node That Give Complement Message\"\"\"\n",
        "  name=state.get(\"name\",\"Beautiful Soul\")\n",
        "  mood=state.get(\"mood\",\"neutral\")\n",
        "  if mood=='sad':\n",
        "    compliment=f\"{name} ,even on my low days,your smile keeps me happy and a strong believe that yor are with me.\"\n",
        "  elif mood=='happy':\n",
        "    compliment=f\"{name}, your happiness and love is contagious and infinite - you lift everyone around you!\"\n",
        "  else:\n",
        "    compliment=f\"{name}, you're a constant source of inspiration and career guide and in my life.\"\n",
        "\n",
        "  state[\"phrase\"]=compliment\n",
        "  return state"
      ],
      "metadata": {
        "id": "4UwlBLvwIaOU"
      },
      "execution_count": 17,
      "outputs": []
    },
    {
      "cell_type": "code",
      "source": [
        "graph1=StateGraph(ComplimetState)\n",
        "graph1.add_node(\"Complement\",complement_node)\n",
        "graph1.set_entry_point(\"Complement\")\n",
        "graph1.set_finish_point(\"Complement\")\n",
        "\n",
        "app1=graph1.compile()"
      ],
      "metadata": {
        "id": "WULeYpPkL41E"
      },
      "execution_count": 18,
      "outputs": []
    },
    {
      "cell_type": "code",
      "source": [
        "from IPython.display import Image,display\n",
        "display(Image(app1.get_graph().draw_mermaid_png()))"
      ],
      "metadata": {
        "colab": {
          "base_uri": "https://localhost:8080/",
          "height": 251
        },
        "id": "s8zmAKvsMWiL",
        "outputId": "56a7dba5-43b2-47b0-b9f3-97754429e68a"
      },
      "execution_count": 19,
      "outputs": [
        {
          "output_type": "display_data",
          "data": {
            "image/png": "[encoded data removed]",
            "text/plain": [
              "<IPython.core.display.Image object>"
            ]
          },
          "metadata": {}
        }
      ]
    },
    {
      "cell_type": "code",
      "source": [
        "output = app1.invoke({\"name\": \"Krishna\", \"mood\": \"happy\", \"phrase\": \"\"})\n",
        "print(output[\"phrase\"])\n"
      ],
      "metadata": {
        "colab": {
          "base_uri": "https://localhost:8080/"
        },
        "id": "MWP7lXwXQeVY",
        "outputId": "9ff36f56-b3be-43ac-9f63-fea39aaead0c"
      },
      "execution_count": 20,
      "outputs": [
        {
          "output_type": "stream",
          "name": "stdout",
          "text": [
            "Krishna, your happiness and love is contagious and infinite - you lift everyone around you!\n"
          ]
        }
      ]
    },
    {
      "cell_type": "code",
      "source": [
        "out=app1.invoke({\"name\": \"Krishna\",\"mood\": \"sad\"})\n",
        "print(out[\"phrase\"])\n"
      ],
      "metadata": {
        "colab": {
          "base_uri": "https://localhost:8080/"
        },
        "id": "28uluePtQvyR",
        "outputId": "305a8200-2a0c-4383-e91d-db022664a5b7"
      },
      "execution_count": 21,
      "outputs": [
        {
          "output_type": "stream",
          "name": "stdout",
          "text": [
            "Krishna ,even on my low days,your smile keeps me happy and a strong believe that yor are with me.\n"
          ]
        }
      ]
    },
    {
      "cell_type": "markdown",
      "source": [
        "**GRAPH |||**: **For mathematical operations**"
      ],
      "metadata": {
        "id": "_6leisHbfQKk"
      }
    },
    {
      "cell_type": "code",
      "source": [
        "from typing import TypedDict,List\n",
        "from langgraph.graph import StateGraph"
      ],
      "metadata": {
        "id": "N4bPp_kBTv1Q"
      },
      "execution_count": 22,
      "outputs": []
    },
    {
      "cell_type": "code",
      "source": [
        "class MathAgent(TypedDict):\n",
        "  values:List[int]\n",
        "  name:str\n",
        "  result:str"
      ],
      "metadata": {
        "id": "GfJ9yHhjV2k7"
      },
      "execution_count": 23,
      "outputs": []
    },
    {
      "cell_type": "code",
      "source": [
        "def process_values(state: MathAgent)->MathAgent:\n",
        "  \"\"\"This function handles multiple differnt inputs to perform  mathematical calculation\"\"\"\n",
        "  state[\"result\"]=f\"Hi there {state['name']}! Your required sum is {sum(state['values'])}\"\n",
        "  return state"
      ],
      "metadata": {
        "id": "-e-HAk56V2Yh"
      },
      "execution_count": 24,
      "outputs": []
    },
    {
      "cell_type": "code",
      "source": [
        "graph=StateGraph(MathAgent)\n",
        "graph.add_node(\"Processor\",process_values)\n",
        "graph.set_entry_point(\"Processor\")\n",
        "graph.set_finish_point(\"Processor\")\n",
        "app=graph.compile()"
      ],
      "metadata": {
        "id": "b-x4dw9lV2Gq"
      },
      "execution_count": 25,
      "outputs": []
    },
    {
      "cell_type": "code",
      "source": [
        "from IPython.display import Image,display\n",
        "display(Image(app.get_graph().draw_mermaid_png()))"
      ],
      "metadata": {
        "id": "PEAMaoTKV149",
        "colab": {
          "base_uri": "https://localhost:8080/",
          "height": 251
        },
        "outputId": "1fdd7ff7-2811-418c-d21f-da6dd97a1c3c"
      },
      "execution_count": 26,
      "outputs": [
        {
          "output_type": "display_data",
          "data": {
            "image/png": "[encoded data removed]",
            "text/plain": [
              "<IPython.core.display.Image object>"
            ]
          },
          "metadata": {}
        }
      ]
    },
    {
      "cell_type": "code",
      "source": [
        "answers=app.invoke({\"values\":[12,45,6,32,786,33],\"name\":\"Sam\"})"
      ],
      "metadata": {
        "id": "rDHZtVEujdaq"
      },
      "execution_count": 27,
      "outputs": []
    },
    {
      "cell_type": "code",
      "source": [
        "print(answers)"
      ],
      "metadata": {
        "colab": {
          "base_uri": "https://localhost:8080/"
        },
        "id": "MySP2XKNjwV9",
        "outputId": "fd624dd3-11e7-4d4c-81eb-a54d81beac25"
      },
      "execution_count": 28,
      "outputs": [
        {
          "output_type": "stream",
          "name": "stdout",
          "text": [
            "{'values': [12, 45, 6, 32, 786, 33], 'name': 'Sam', 'result': 'Hi there Sam! Your required sum is 914'}\n"
          ]
        }
      ]
    },
    {
      "cell_type": "markdown",
      "source": [
        "**With User Input**"
      ],
      "metadata": {
        "id": "ph4SYTNjlP_H"
      }
    },
    {
      "cell_type": "code",
      "source": [
        "name=input(\"Enter your name: \")\n",
        "values_count=input(\"Enter the values separated by commas:\")"
      ],
      "metadata": {
        "colab": {
          "base_uri": "https://localhost:8080/"
        },
        "id": "EkGYefFIj2mj",
        "outputId": "c934d3e1-785e-4897-eb78-e51ed39f228b"
      },
      "execution_count": 29,
      "outputs": [
        {
          "name": "stdout",
          "output_type": "stream",
          "text": [
            "Enter your name: Ko\n",
            "Enter the values separated by commas:9,5,27,8\n"
          ]
        }
      ]
    },
    {
      "cell_type": "code",
      "source": [
        "value=list(map(int,values_count.split(',')))"
      ],
      "metadata": {
        "id": "fJVOrjYCk3js"
      },
      "execution_count": 30,
      "outputs": []
    },
    {
      "cell_type": "code",
      "source": [
        "answers=app.invoke({\"name\":name,\"values\":value})"
      ],
      "metadata": {
        "id": "Cf8Bu3xukyVD"
      },
      "execution_count": 31,
      "outputs": []
    },
    {
      "cell_type": "code",
      "source": [
        "print(answers)"
      ],
      "metadata": {
        "colab": {
          "base_uri": "https://localhost:8080/"
        },
        "id": "LwzDS_tvlK57",
        "outputId": "74c36c7d-89d0-4c49-f6b2-072137b62a58"
      },
      "execution_count": 32,
      "outputs": [
        {
          "output_type": "stream",
          "name": "stdout",
          "text": [
            "{'values': [9, 5, 27, 8], 'name': 'Ko', 'result': 'Hi there Ko! Your required sum is 49'}\n"
          ]
        }
      ]
    },
    {
      "cell_type": "markdown",
      "source": [
        "**GRAPH ||||**: **Agent To Perform Mathematical Calculation**"
      ],
      "metadata": {
        "id": "z681uPpqmTWi"
      }
    },
    {
      "cell_type": "code",
      "source": [
        "class CalculationAgent(TypedDict):\n",
        "  numbers:List[int]\n",
        "  name:str\n",
        "  operation:str\n",
        "  result:str"
      ],
      "metadata": {
        "id": "wfME1V2hlNJs"
      },
      "execution_count": 33,
      "outputs": []
    },
    {
      "cell_type": "code",
      "source": [
        "def calculation_node(state: CalculationAgent) -> CalculationAgent:\n",
        "    \"\"\"This function performs a mathematical operation and returns a compliment-based result.\"\"\"\n",
        "\n",
        "    name = state[\"name\"]\n",
        "    operation = state[\"operation\"]\n",
        "    numbers = state[\"numbers\"]\n",
        "\n",
        "    try:\n",
        "        if operation == '+':\n",
        "            result = sum(numbers)\n",
        "            calculation = f\"{name}, the sum of {numbers} is {result}. You always bring things together beautifully!\"\n",
        "\n",
        "        elif operation == '-':\n",
        "            result = numbers[0]\n",
        "            for num in numbers[1:]:\n",
        "                result -= num\n",
        "            calculation = f\"{name}, the result of subtraction is {result}. Just like how you remove negativity from every room!\"\n",
        "\n",
        "        elif operation == '*':\n",
        "            result = 1\n",
        "            for num in numbers:\n",
        "                result *= num\n",
        "            calculation = f\"{name}, the product is {result}. You multiply joy everywhere you go!\"\n",
        "\n",
        "        elif operation == '/':\n",
        "            result = numbers[0]\n",
        "            for num in numbers[1:]:\n",
        "                result /= num\n",
        "            calculation = f\"{name}, the division result is {result:.2f}. You balance everything with grace!\"\n",
        "\n",
        "        elif operation == '%':\n",
        "            result = numbers[0]\n",
        "            for num in numbers[1:]:\n",
        "                result %= num\n",
        "            calculation = f\"{name}, the modulus result is {result}. You're always that perfect remainder we need!\"\n",
        "\n",
        "        elif operation == '**':\n",
        "            result = numbers[0]\n",
        "            for num in numbers[1:]:\n",
        "                result **= num\n",
        "            calculation = f\"{name}, the exponent result is {result}. Your impact grows exponentially with time!\"\n",
        "\n",
        "        else:\n",
        "            calculation = f\"{name}, please enter a valid operation like +, -, *, /, %, or ** to continue.\"\n",
        "\n",
        "    except ZeroDivisionError:\n",
        "        calculation = f\"{name}, division by zero isn't allowed — but your value is always infinite! 💫\"\n",
        "    except Exception as e:\n",
        "        calculation = f\"{name}, there was an unexpected error: {str(e)}\"\n",
        "\n",
        "    state[\"result\"] = calculation\n",
        "    return state\n"
      ],
      "metadata": {
        "id": "Ct695_rNnDIB"
      },
      "execution_count": 34,
      "outputs": []
    },
    {
      "cell_type": "code",
      "source": [
        "graph=StateGraph(CalculationAgent)\n",
        "graph.add_node(\"Calculator\",calculation_node)\n",
        "graph.set_entry_point(\"Calculator\")\n",
        "graph.set_finish_point(\"Calculator\")\n",
        "app=graph.compile()"
      ],
      "metadata": {
        "id": "Hpn7_NnjoZzB"
      },
      "execution_count": 35,
      "outputs": []
    },
    {
      "cell_type": "code",
      "source": [
        "from IPython.display import Image,display\n",
        "display(Image(app.get_graph().draw_mermaid_png()))\n"
      ],
      "metadata": {
        "colab": {
          "base_uri": "https://localhost:8080/",
          "height": 251
        },
        "id": "H2YMaHRto3qQ",
        "outputId": "942908d6-e563-4396-bb36-22404b1318ff"
      },
      "execution_count": 36,
      "outputs": [
        {
          "output_type": "display_data",
          "data": {
            "image/png": "[encoded data removed]",
            "text/plain": [
              "<IPython.core.display.Image object>"
            ]
          },
          "metadata": {}
        }
      ]
    },
    {
      "cell_type": "code",
      "source": [
        "output=app.invoke({\"name\":\"Sam\",\"numbers\":[12,67,43,13],\"operation\":\"+\",\"result\":\"\"})\n"
      ],
      "metadata": {
        "id": "wsYYOMyDpIaE"
      },
      "execution_count": 37,
      "outputs": []
    },
    {
      "cell_type": "code",
      "source": [
        "print(output)"
      ],
      "metadata": {
        "colab": {
          "base_uri": "https://localhost:8080/"
        },
        "id": "CbOpF9jKqkZc",
        "outputId": "8f7b0715-3686-46ff-f800-65c36a974c8a"
      },
      "execution_count": 38,
      "outputs": [
        {
          "output_type": "stream",
          "name": "stdout",
          "text": [
            "{'numbers': [12, 67, 43, 13], 'name': 'Sam', 'operation': '+', 'result': 'Sam, the sum of [12, 67, 43, 13] is 135. You always bring things together beautifully!'}\n"
          ]
        }
      ]
    },
    {
      "cell_type": "code",
      "source": [
        "print(output[\"result\"])"
      ],
      "metadata": {
        "colab": {
          "base_uri": "https://localhost:8080/"
        },
        "id": "I9z7p9Xoqmss",
        "outputId": "9504e0d8-7de2-4c76-e67f-94fd55edfac7"
      },
      "execution_count": 39,
      "outputs": [
        {
          "output_type": "stream",
          "name": "stdout",
          "text": [
            "Sam, the sum of [12, 67, 43, 13] is 135. You always bring things together beautifully!\n"
          ]
        }
      ]
    },
    {
      "cell_type": "markdown",
      "source": [
        "**With User input**"
      ],
      "metadata": {
        "id": "kxEHDp19t-YK"
      }
    },
    {
      "cell_type": "code",
      "source": [
        "user_name=input(\"Enter your name: \")\n",
        "while True:\n",
        "  oper=input(\"Enter the operation you want to perform: \")\n",
        "  number=input(\"Enter the numbers separated by comma: \")\n",
        "  try:\n",
        "    number_input = list(map(int, number.split(',')))\n",
        "  except:\n",
        "    print(\"Invalid Input ! Please enter valid integer numbers separated by commas.\")\n",
        "    continue\n",
        "  output=app.invoke({\"name\":user_name,\"numbers\":number_input,\"operation\":oper,\"result\":\"\"})\n",
        "  print(output[\"result\"])\n",
        "  choice=input(f\"{user_name} Do you want to perform anoter operation(yes/no): \").strip().lower()\n",
        "  if choice not in['yes','y']:\n",
        "    print(\"Thank You ! Have A Nice Day\")\n",
        "    break"
      ],
      "metadata": {
        "colab": {
          "base_uri": "https://localhost:8080/"
        },
        "id": "i6TsVQrqqpaw",
        "outputId": "bb58bad3-43a3-4aea-b60d-236bd792216f"
      },
      "execution_count": 40,
      "outputs": [
        {
          "output_type": "stream",
          "name": "stdout",
          "text": [
            "Enter your name: Man\n",
            "Enter the operation you want to perform: **\n",
            "Enter the numbers separated by comma: 4,8\n",
            "Man, the exponent result is 65536. Your impact grows exponentially with time!\n",
            "Man Do you want to perform anoter operation(yes/no): yes\n",
            "Enter the operation you want to perform: %\n",
            "Enter the numbers separated by comma: 37,8\n",
            "Man, the modulus result is 5. You're always that perfect remainder we need!\n",
            "Man Do you want to perform anoter operation(yes/no): no\n",
            "Thank You ! Have A Nice Day\n"
          ]
        }
      ]
    },
    {
      "cell_type": "markdown",
      "source": [
        "**Updated calculation_node() With Validation**"
      ],
      "metadata": {
        "id": "5yU9SCUO0MRu"
      }
    },
    {
      "cell_type": "code",
      "source": [
        "def calculation_node(state: dict) -> dict:\n",
        "    \"\"\"Performs a mathematical operation and returns a compliment-based result.\"\"\"\n",
        "    name = state[\"name\"]\n",
        "    operation = state[\"operation\"]\n",
        "    numbers = state[\"numbers\"]\n",
        "\n",
        "    try:\n",
        "        if operation == '+':\n",
        "            result = sum(numbers)\n",
        "            calculation = f\"{name}, the sum of {numbers} is {result}. You always bring things together beautifully!\"\n",
        "\n",
        "        elif operation == '-':\n",
        "            result = numbers[0]\n",
        "            for num in numbers[1:]:\n",
        "                result -= num\n",
        "            calculation = f\"{name}, the result of subtraction is {result}. Just like how you remove negativity from every room!\"\n",
        "\n",
        "        elif operation == '*':\n",
        "            result = 1\n",
        "            for num in numbers:\n",
        "                result *= num\n",
        "            calculation = f\"{name}, the product is {result}. You multiply joy everywhere you go!\"\n",
        "\n",
        "        elif operation == '/':\n",
        "            result = numbers[0]\n",
        "            for num in numbers[1:]:\n",
        "                result /= num\n",
        "            calculation = f\"{name}, the division result is {result:.2f}. You balance everything with grace!\"\n",
        "\n",
        "        elif operation == '%':\n",
        "            if len(numbers) != 2:\n",
        "                calculation = f\"{name}, please enter exactly two numbers for modulus operation.\"\n",
        "            else:\n",
        "                try:\n",
        "                    result = numbers[0] % numbers[1]\n",
        "                    calculation = f\"{name}, the modulus result is {result}. You're always that perfect remainder we need!\"\n",
        "                except ZeroDivisionError:\n",
        "                    calculation = f\"{name}, modulus by zero isn’t possible — but your impact never goes to zero! 💫\"\n",
        "\n",
        "        elif operation == '**':\n",
        "            if len(numbers) != 2:\n",
        "                calculation = f\"{name}, please enter exactly two numbers for exponentiation.\"\n",
        "            else:\n",
        "                try:\n",
        "                    result = numbers[0] ** numbers[1]\n",
        "                    calculation = f\"{name}, {numbers[0]} to the power {numbers[1]} is {result}. Your impact grows exponentially with time!\"\n",
        "                except OverflowError:\n",
        "                    calculation = f\"{name}, that exponent is too large — your potential is off the charts! 🚀\"\n",
        "\n",
        "        else:\n",
        "            calculation = f\"{name}, please enter a valid operation like +, -, *, /, %, or ** to continue.\"\n",
        "\n",
        "    except ZeroDivisionError:\n",
        "        calculation = f\"{name}, division by zero isn't allowed — but your value is always infinite! 💫\"\n",
        "    except Exception as e:\n",
        "        calculation = f\"{name}, there was an unexpected error: {str(e)}\"\n",
        "\n",
        "    state[\"result\"] = calculation\n",
        "    return state\n"
      ],
      "metadata": {
        "id": "Be5OzFoy0I6E"
      },
      "execution_count": 41,
      "outputs": []
    },
    {
      "cell_type": "code",
      "source": [
        "user_name = input(\"Enter your name: \")\n",
        "\n",
        "while True:\n",
        "    oper = input(\"Enter the operation you want to perform (+, -, *, /, %, **): \").strip()\n",
        "    number = input(\"Enter the numbers separated by commas: \")\n",
        "\n",
        "    try:\n",
        "        number_input = list(map(int, number.split(',')))\n",
        "    except ValueError:\n",
        "        print(\"❌ Invalid Input! Please enter valid integer numbers separated by commas.\\n\")\n",
        "        continue\n",
        "\n",
        "    # App invoke\n",
        "    output = app.invoke({\n",
        "        \"name\": user_name,\n",
        "        \"numbers\": number_input,\n",
        "        \"operation\": oper,\n",
        "        \"result\": \"\"\n",
        "    })\n",
        "\n",
        "    print(\"\\n\" + output[\"result\"] + \"\\n\")\n",
        "\n",
        "    choice = input(f\"{user_name}, Do you want to perform another operation (yes/no): \").strip().lower()\n",
        "    if choice not in ['yes', 'y']:\n",
        "        print(f\"\\nThank you, {user_name}! Have a wonderful day! 🌟\")\n",
        "        break\n"
      ],
      "metadata": {
        "colab": {
          "base_uri": "https://localhost:8080/"
        },
        "id": "WwDfUQ25zFjy",
        "outputId": "9d866a62-3b82-407c-b5e2-377ca7b5bb37"
      },
      "execution_count": 43,
      "outputs": [
        {
          "output_type": "stream",
          "name": "stdout",
          "text": [
            "Enter your name: ko\n",
            "Enter the operation you want to perform (+, -, *, /, %, **): **\n",
            "Enter the numbers separated by commas: 5,9\n",
            "\n",
            "ko, the exponent result is 1953125. Your impact grows exponentially with time!\n",
            "\n",
            "ko, Do you want to perform another operation (yes/no): no\n",
            "\n",
            "Thank you, ko! Have a wonderful day! 🌟\n"
          ]
        }
      ]
    },
    {
      "cell_type": "markdown",
      "source": [
        "**Graph |||||: Sequential Graph : Multiple Nodes**"
      ],
      "metadata": {
        "id": "iytqVFUU4cUy"
      }
    },
    {
      "cell_type": "code",
      "source": [
        "class MultiAgent(TypedDict):\n",
        "  name:str\n",
        "  dear:str\n",
        "  country:str\n",
        "  age:int\n",
        "  final:str"
      ],
      "metadata": {
        "id": "MNDtpBYku7RA"
      },
      "execution_count": 44,
      "outputs": []
    },
    {
      "cell_type": "code",
      "source": [
        "def first_node(state: MultiAgent)->MultiAgent:\n",
        "  \"\"\"This is first node of our sequence\"\"\"\n",
        "  state[\"final\"]=f\"Hi {state['name']}!\\n\"\n",
        "  return state\n",
        "\n",
        "def second_node(state:MultiAgent)->MultiAgent:\n",
        "  \"\"\"This is second node of our sequence\"\"\"\n",
        "  state[\"final\"]=state[\"final\"] + f\"{state['name']} is {state['age']} years old.\\n\"\n",
        "  return state\n",
        "\n",
        "def third_node(state:MultiAgent)->MultiAgent:\n",
        "  \"\"\"This is the third node of our sequence\"\"\"\n",
        "  state[\"final\"]=state[\"final\"]+f\"{state['name']} is citizen of country {state['country']}.\\n\"\n",
        "  return state\n",
        "\n",
        "def fourth_node(state:MultiAgent)->MultiAgent:\n",
        "  \"\"\"This is the third node of our sequence\"\"\"\n",
        "  state[\"final\"]=state[\"final\"]+f\"{state['dear']} is the most lovable and kind hearted person in {state['name']}'s life\"\n",
        "  return state"
      ],
      "metadata": {
        "id": "oLWLn94F5eQg"
      },
      "execution_count": 45,
      "outputs": []
    },
    {
      "cell_type": "code",
      "source": [
        "graph=StateGraph(MultiAgent)\n",
        "graph.add_node(\"First Node\",first_node)\n",
        "graph.add_node(\"Second Node\",second_node)\n",
        "graph.add_node(\"Third Node\",third_node)\n",
        "graph.add_node(\"Fourth Node\",fourth_node)\n",
        "graph.set_entry_point(\"First Node\")\n",
        "graph.add_edge(\"First Node\",\"Second Node\")\n",
        "graph.add_edge(\"Second Node\",\"Third Node\")\n",
        "graph.add_edge(\"Third Node\",\"Fourth Node\")\n",
        "graph.set_finish_point(\"Fourth Node\")\n",
        "app=graph.compile()"
      ],
      "metadata": {
        "id": "odYDXkxi9Lo5"
      },
      "execution_count": 46,
      "outputs": []
    },
    {
      "cell_type": "code",
      "source": [
        "from IPython.display import Image,display\n",
        "display(Image(app.get_graph().draw_mermaid_png()))"
      ],
      "metadata": {
        "colab": {
          "base_uri": "https://localhost:8080/",
          "height": 548
        },
        "id": "exIYBSTY-JSA",
        "outputId": "59dc22b1-5fa6-40f1-f0e8-6c7d8d080c5d"
      },
      "execution_count": 47,
      "outputs": [
        {
          "output_type": "display_data",
          "data": {
            "image/png": "[encoded data removed]",
            "text/plain": [
              "<IPython.core.display.Image object>"
            ]
          },
          "metadata": {}
        }
      ]
    },
    {
      "cell_type": "code",
      "source": [
        "output=app.invoke({\"name\":\"Sa\",\"dear\":\"Kri\",\"age\":12,\"country\":\"India\",\"final\":\"\"})"
      ],
      "metadata": {
        "id": "eFP5uCL8-Z3F"
      },
      "execution_count": 50,
      "outputs": []
    },
    {
      "cell_type": "code",
      "source": [
        "print(output[\"final\"])"
      ],
      "metadata": {
        "colab": {
          "base_uri": "https://localhost:8080/"
        },
        "id": "gpn3H2c6-7Py",
        "outputId": "d393d379-3167-4620-cedd-42f6bd87fa7b"
      },
      "execution_count": 51,
      "outputs": [
        {
          "output_type": "stream",
          "name": "stdout",
          "text": [
            "Hi Sa!\n",
            "Sa is 12 years old.\n",
            "Sa is citizen of country India.\n",
            "Kri is the most lovable and kind hearted person in Sa's life\n"
          ]
        }
      ]
    },
    {
      "cell_type": "markdown",
      "source": [
        "**with User Input**"
      ],
      "metadata": {
        "id": "j37mnfYqBLkA"
      }
    },
    {
      "cell_type": "code",
      "source": [
        "Name=input(\"Enter your name: \")\n",
        "Dear=input(\"Enter the name of dearest person in my life: \")\n",
        "Age=input(\"Enter your age: \")\n",
        "Country=input(\"Enter your country: \")\n",
        "output=app.invoke({\"name\":Name,\"dear\":Dear,\"age\":Age,\"country\":Country,\"final\":\"\"})"
      ],
      "metadata": {
        "colab": {
          "base_uri": "https://localhost:8080/"
        },
        "id": "Nn7BMl05BOZz",
        "outputId": "513b46b0-e46d-4f90-d834-432fd7f4ba39"
      },
      "execution_count": 52,
      "outputs": [
        {
          "name": "stdout",
          "output_type": "stream",
          "text": [
            "Enter your name: Raha\n",
            "Enter the name of dearest person in my life: Moha\n",
            "Enter your age: 10\n",
            "Enter your country: Italy \n"
          ]
        }
      ]
    },
    {
      "cell_type": "code",
      "source": [
        "print(output[\"final\"])"
      ],
      "metadata": {
        "colab": {
          "base_uri": "https://localhost:8080/"
        },
        "id": "tdL7pR0_CdKr",
        "outputId": "ba551c30-c812-4bf9-80e1-2c23df0f1f05"
      },
      "execution_count": 53,
      "outputs": [
        {
          "output_type": "stream",
          "name": "stdout",
          "text": [
            "Hi Raha!\n",
            "Raha is 10 years old.\n",
            "Raha is citizen of country Italy .\n",
            "Moha is the most lovable and kind hearted person in Raha's life\n"
          ]
        }
      ]
    },
    {
      "cell_type": "markdown",
      "source": [
        "**GRAPH: 6**"
      ],
      "metadata": {
        "id": "8H9M1bb3AmNQ"
      }
    },
    {
      "cell_type": "code",
      "source": [
        "class MultiAgent(TypedDict):\n",
        "  name:str\n",
        "  country:str\n",
        "  age:int\n",
        "  skills:List[str]\n",
        "  final:str"
      ],
      "metadata": {
        "id": "OQl1RO1DAqoG"
      },
      "execution_count": 54,
      "outputs": []
    },
    {
      "cell_type": "code",
      "source": [
        "def first_node(state: MultiAgent)->MultiAgent:\n",
        "  \"\"\"This is first node of our sequence\"\"\"\n",
        "  state[\"final\"]=f\"Hi {state['name']}!\\n\"\n",
        "  return state\n",
        "\n",
        "def second_node(state:MultiAgent)->MultiAgent:\n",
        "  \"\"\"This is second node of our sequence\"\"\"\n",
        "  state[\"final\"]=state[\"final\"] + f\"{state['name']} is {state['age']} years old.\\n\"\n",
        "  return state\n",
        "\n",
        "def third_node(state:MultiAgent)->MultiAgent:\n",
        "  \"\"\"This is the third node of our sequence\"\"\"\n",
        "  state[\"final\"]=state[\"final\"]+f\"{state['name']} is citizen of country {state['country']}.\\n\"\n",
        "  return state\n",
        "\n",
        "def fourth_node(state:MultiAgent)->MultiAgent:\n",
        "  \"\"\"This is the third node of our sequence\"\"\"\n",
        "  skills = state[\"skills\"]\n",
        "  if len(skills) == 0:\n",
        "    skill_text = \"no skills listed\"\n",
        "  elif len(skills) == 1:\n",
        "    skill_text = skills[0]\n",
        "  elif len(skills) == 2:\n",
        "    skill_text = f\"{skills[0]} and {skills[1]}\"\n",
        "  else:\n",
        "    skill_text = f\"{', '.join(skills[:-1])} and {skills[-1]}\"\n",
        "  state[\"final\"]=state[\"final\"]+f\"Skills of {state['name']} are: {skill_text}\"\n",
        "  return state"
      ],
      "metadata": {
        "id": "Rfe2NCHfA1kf"
      },
      "execution_count": 55,
      "outputs": []
    },
    {
      "cell_type": "code",
      "source": [
        "graph=StateGraph(MultiAgent)\n",
        "graph.add_node(\"Name\",first_node)\n",
        "graph.add_node(\"Age\",second_node)\n",
        "graph.add_node(\"Country\",third_node)\n",
        "graph.add_node(\"Skills\",fourth_node)\n",
        "graph.set_entry_point(\"Name\")\n",
        "graph.add_edge(\"Name\",\"Age\")\n",
        "graph.add_edge(\"Age\",\"Country\")\n",
        "graph.add_edge(\"Country\",\"Skills\")\n",
        "graph.set_finish_point(\"Skills\")\n",
        "app=graph.compile()"
      ],
      "metadata": {
        "id": "_FWGhlDfD3T4"
      },
      "execution_count": 56,
      "outputs": []
    },
    {
      "cell_type": "code",
      "source": [
        "from IPython.display import Image,display\n",
        "display(Image(app.get_graph().draw_mermaid_png()))"
      ],
      "metadata": {
        "colab": {
          "base_uri": "https://localhost:8080/",
          "height": 548
        },
        "id": "33fJY49HJ10S",
        "outputId": "5adf9e67-f467-4acf-aa8e-b5a601f819d7"
      },
      "execution_count": 57,
      "outputs": [
        {
          "output_type": "display_data",
          "data": {
            "image/png": "[encoded data removed]",
            "text/plain": [
              "<IPython.core.display.Image object>"
            ]
          },
          "metadata": {}
        }
      ]
    },
    {
      "cell_type": "code",
      "source": [
        "result = app.invoke({\n",
        "    \"name\": \"Radha\",\n",
        "    \"country\": \"India\",\n",
        "    \"age\": 24,\n",
        "    \"skills\": [\"Reading\", \"Story Telling\", \"Singing\", \"Dancing\"],\n",
        "    \"final\": \"\"\n",
        "})\n"
      ],
      "metadata": {
        "id": "zZzgfzuIJ6u5"
      },
      "execution_count": 58,
      "outputs": []
    },
    {
      "cell_type": "code",
      "source": [
        "print(result[\"final\"])"
      ],
      "metadata": {
        "colab": {
          "base_uri": "https://localhost:8080/"
        },
        "id": "RxQcTlfcNk0O",
        "outputId": "f8899825-e350-4316-9da6-17ced9b2ed15"
      },
      "execution_count": 59,
      "outputs": [
        {
          "output_type": "stream",
          "name": "stdout",
          "text": [
            "Hi Radha!\n",
            "Radha is 24 years old.\n",
            "Radha is citizen of country India.\n",
            "Skills of Radha are: Reading, Story Telling, Singing and Dancing\n"
          ]
        }
      ]
    },
    {
      "cell_type": "code",
      "source": [
        "Name=input(\"Enter your name: \")\n",
        "Age=input(\"Enter your age: \")\n",
        "Country=input(\"Enter your country: \")\n",
        "Skills=input(\"Enter your skills: \")"
      ],
      "metadata": {
        "colab": {
          "base_uri": "https://localhost:8080/"
        },
        "id": "bc4TkroZNpmk",
        "outputId": "a306bd77-e419-4ac3-b713-1ddd426549fc"
      },
      "execution_count": 60,
      "outputs": [
        {
          "name": "stdout",
          "output_type": "stream",
          "text": [
            "Enter your name: Oo\n",
            "Enter your age: 11\n",
            "Enter your country: US\n",
            "Enter your skills: Agentic AI\n"
          ]
        }
      ]
    },
    {
      "cell_type": "code",
      "source": [
        "skills=[skill.strip() for skill in Skills.split(',')]"
      ],
      "metadata": {
        "id": "2e9NB7kHTewB"
      },
      "execution_count": 61,
      "outputs": []
    },
    {
      "cell_type": "code",
      "source": [
        "output=app.invoke({\"name\":Name,\"age\":Age,\"country\":Country,\"skills\":skills,\"final\":\"\"})"
      ],
      "metadata": {
        "id": "gf4WOvDDTdgx"
      },
      "execution_count": 62,
      "outputs": []
    },
    {
      "cell_type": "code",
      "source": [
        "print(output[\"final\"])"
      ],
      "metadata": {
        "colab": {
          "base_uri": "https://localhost:8080/"
        },
        "id": "SeSvxqv9TAUH",
        "outputId": "b661c7ef-bd50-4bbd-88cd-fb15e2b233b2"
      },
      "execution_count": 63,
      "outputs": [
        {
          "output_type": "stream",
          "name": "stdout",
          "text": [
            "Hi Oo!\n",
            "Oo is 11 years old.\n",
            "Oo is citizen of country US.\n",
            "Skills of Oo are: Agentic AI\n"
          ]
        }
      ]
    },
    {
      "cell_type": "markdown",
      "source": [
        "**Graph : 7 : Conditional Graph**"
      ],
      "metadata": {
        "id": "TgfD1VEoWf4I"
      }
    },
    {
      "cell_type": "code",
      "source": [
        "from typing import TypedDict\n",
        "from langgraph.graph import StateGraph, START, END"
      ],
      "metadata": {
        "id": "dZmQ9InrWrQM"
      },
      "execution_count": 64,
      "outputs": []
    },
    {
      "cell_type": "code",
      "source": [
        "class DecisionAgent(TypedDict):\n",
        "  num1:int\n",
        "  operation:str\n",
        "  num2:int\n",
        "  final:int"
      ],
      "metadata": {
        "id": "KmsgWPLRW_TC"
      },
      "execution_count": 65,
      "outputs": []
    },
    {
      "cell_type": "code",
      "source": [
        "def adder(state: DecisionAgent)->DecisionAgent:\n",
        "  \"\"\"This node adds 2 numbers\"\"\"\n",
        "  state[\"final\"]=state[\"num1\"]+state[\"num2\"]\n",
        "  return state\n",
        "\n",
        "def substracter(state: DecisionAgent)->DecisionAgent:\n",
        "  \"\"\"This node substracts 2 numbers\"\"\"\n",
        "  state[\"final\"]=state[\"num1\"]-state[\"num2\"]\n",
        "  return state\n",
        "\n",
        "def multiplicater(state: DecisionAgent)->DecisionAgent:\n",
        "  \"\"\"This node multiply 2 numbers\"\"\"\n",
        "  state[\"final\"]=state[\"num1\"]*state[\"num2\"]\n",
        "  return state\n",
        "\n",
        "def divider(state: DecisionAgent)->DecisionAgent:\n",
        "  \"\"\"This node divides 2 numbers\"\"\"\n",
        "  state[\"final\"]=state[\"num1\"]/state[\"num2\"]\n",
        "  return state\n",
        "\n",
        "def modulater(state: DecisionAgent)->DecisionAgent:\n",
        "  \"\"\"This node find remender of 2 numbers\"\"\"\n",
        "  state[\"final\"]=state[\"num1\"]%state[\"num2\"]\n",
        "  return state\n",
        "\n",
        "def expoentier(state: DecisionAgent)->DecisionAgent:\n",
        "  \"\"\"This node find exponential of given numbers\"\"\"\n",
        "  state[\"final\"]=state[\"num1\"]**state[\"num2\"]\n",
        "  return state\n",
        "\n",
        "def decisionNode(state: DecisionAgent)->DecisionAgent:\n",
        "  \"\"\"This node will select the next node of the graph\"\"\"\n",
        "  opr=state[\"operation\"]\n",
        "  if opr=='+':\n",
        "    return \"Addition_operation\"\n",
        "  elif opr=='-':\n",
        "    return \"Substraction_operation\"\n",
        "  elif opr=='*':\n",
        "    return \"Multiplication_operation\"\n",
        "  elif opr=='/':\n",
        "    return \"Division_operation\"\n",
        "  elif opr=='%':\n",
        "    return \"Module_operation\"\n",
        "  elif opr=='**':\n",
        "    return \"Power_operation\""
      ],
      "metadata": {
        "id": "O-PLqlTYXU-4"
      },
      "execution_count": 66,
      "outputs": []
    },
    {
      "cell_type": "code",
      "source": [
        "graph=StateGraph(DecisionAgent)\n",
        "graph.add_node(\"Addition\",adder)\n",
        "graph.add_node(\"Substraction\",substracter)\n",
        "graph.add_node(\"Multiplication\",multiplicater)\n",
        "graph.add_node(\"Division\",divider)\n",
        "graph.add_node(\"Modulas\",modulater)\n",
        "graph.add_node(\"Power\",expoentier)\n",
        "graph.add_node(\"Decision\",lambda state:state) #passthrough function\n",
        "graph.add_edge(START,\"Decision\")\n",
        "graph.add_conditional_edges(\n",
        "    \"Decision\",decisionNode,\n",
        "    {\n",
        "        \"Addition_operation\":\"Addition\",\n",
        "        \"Substraction_operation\":\"Substraction\",\n",
        "        \"Multiplication_operation\":\"Multiplication\",\n",
        "        \"Division_operation\":\"Division\",\n",
        "        \"Module_operation\":\"Modulas\",\n",
        "        \"Power_operation\":\"Power\"\n",
        "    }\n",
        ")\n",
        "graph.add_edge(\"Addition\",END)\n",
        "graph.add_edge(\"Substraction\",END)\n",
        "graph.add_edge(\"Multiplication\",END)\n",
        "graph.add_edge(\"Division\",END)\n",
        "graph.add_edge(\"Modulas\",END)\n",
        "graph.add_edge(\"Power\",END)\n",
        "\n",
        "app=graph.compile()\n"
      ],
      "metadata": {
        "id": "8d1oZUnXbXxa"
      },
      "execution_count": 67,
      "outputs": []
    },
    {
      "cell_type": "code",
      "source": [
        "from IPython.display import Image,display\n",
        "display(Image(app.get_graph().draw_mermaid_png()))"
      ],
      "metadata": {
        "colab": {
          "base_uri": "https://localhost:8080/",
          "height": 292
        },
        "id": "nfynpSv6uyO3",
        "outputId": "a6b9b747-d0b9-4d3d-ad1c-4b0a5d9bf752"
      },
      "execution_count": 68,
      "outputs": [
        {
          "output_type": "display_data",
          "data": {
            "image/png": "[encoded data removed]",
            "text/plain": [
              "<IPython.core.display.Image object>"
            ]
          },
          "metadata": {}
        }
      ]
    },
    {
      "cell_type": "code",
      "source": [
        "inital=DecisionAgent(num1=19,num2=10,operation=\"*\")\n",
        "print(app.invoke(inital))"
      ],
      "metadata": {
        "colab": {
          "base_uri": "https://localhost:8080/"
        },
        "id": "XT1lFixkvRbZ",
        "outputId": "f8f5398f-a2de-4e6c-a7b4-8bd954b4ac76"
      },
      "execution_count": 69,
      "outputs": [
        {
          "output_type": "stream",
          "name": "stdout",
          "text": [
            "{'num1': 19, 'operation': '*', 'num2': 10, 'final': 190}\n"
          ]
        }
      ]
    },
    {
      "cell_type": "markdown",
      "source": [
        "**`WITH USER INPUT`**"
      ],
      "metadata": {
        "id": "uU2dwnArychG"
      }
    },
    {
      "cell_type": "code",
      "source": [
        "user_name = input(\"Enter your name: \")\n",
        "\n",
        "def smart_convert(value):\n",
        "    \"\"\"Convert input to int, float, or leave as string.\"\"\"\n",
        "    try:\n",
        "        if '.' in value:\n",
        "            return float(value)\n",
        "        return int(value)\n",
        "    except ValueError:\n",
        "        return value  # return string if not numeric\n",
        "\n",
        "while True:\n",
        "    operation = input(\"Enter the operation you want to perform (+, -, *, /, concat, or custom): \").strip()\n",
        "    print(\"Enter the numbers or strings:\")\n",
        "    num1 = smart_convert(input(\"First Input: \"))\n",
        "    num2 = smart_convert(input(\"Second Input: \"))\n",
        "\n",
        "    # Example app logic (replace this with your actual app.invoke call)\n",
        "    if operation == '+':\n",
        "        final = num1 + num2\n",
        "    elif operation == '-':\n",
        "        final = num1 - num2\n",
        "    elif operation == '*':\n",
        "        final = num1 * num2\n",
        "    elif operation == '/':\n",
        "        try:\n",
        "            final = num1 / num2\n",
        "        except ZeroDivisionError:\n",
        "            final = \"Error: Division by zero\"\n",
        "    elif operation.lower() == 'concat':\n",
        "        final = str(num1) + str(num2)\n",
        "    else:\n",
        "        final = f\"Unknown operation '{operation}'.\"\n",
        "\n",
        "    # If you have app.invoke:\n",
        "    # output = app.invoke({\"num1\": num1, \"num2\": num2, \"operation\": operation, \"final\": \"\"})\n",
        "    # print(output[\"final\"])\n",
        "\n",
        "    print(f\"Result: {final}\")\n",
        "\n",
        "    choice = input(f\"{user_name}, do you want to perform another operation (yes/no)? \").strip().lower()\n",
        "    if choice not in ['yes', 'y']:\n",
        "        print(\"Thank You! Have A Nice Day 😊\")\n",
        "        break\n"
      ],
      "metadata": {
        "colab": {
          "base_uri": "https://localhost:8080/"
        },
        "id": "b1Vdnl4VyUdE",
        "outputId": "b5eb1a70-537c-4b74-f368-d458a96018f6"
      },
      "execution_count": 73,
      "outputs": [
        {
          "output_type": "stream",
          "name": "stdout",
          "text": [
            "Enter your name: N\n",
            "Enter the operation you want to perform (+, -, *, /, concat, or custom): /\n",
            "Enter the numbers or strings:\n",
            "First Input: 34\n",
            "Second Input: 6\n",
            "Result: 5.666666666666667\n",
            "N, do you want to perform another operation (yes/no)? yes\n",
            "Enter the operation you want to perform (+, -, *, /, concat, or custom): concat\n",
            "Enter the numbers or strings:\n",
            "First Input: Agentic\n",
            "Second Input: AI\n",
            "Result: AgenticAI\n",
            "N, do you want to perform another operation (yes/no)? no\n",
            "Thank You! Have A Nice Day 😊\n"
          ]
        }
      ]
    },
    {
      "cell_type": "markdown",
      "source": [
        "**DOUBLE DECISION NODE**: **GRAPH : 8**"
      ],
      "metadata": {
        "id": "ZaA5HTV_19sW"
      }
    },
    {
      "cell_type": "code",
      "source": [
        "class MathDecisionAgent(TypedDict):\n",
        "  num1:int\n",
        "  operation1:str\n",
        "  num2:int\n",
        "  num3:int\n",
        "  num4:int\n",
        "  operation2:str\n",
        "  final1:str\n",
        "  final2:int"
      ],
      "metadata": {
        "id": "oiQXuDul2By-"
      },
      "execution_count": 74,
      "outputs": []
    },
    {
      "cell_type": "code",
      "source": [
        "def adder1(state: MathDecisionAgent)->MathDecisionAgent:\n",
        "  \"\"\"This node adds 2 numbers\"\"\"\n",
        "  state[\"final1\"]=state[\"num1\"]+state[\"num2\"]\n",
        "  return state\n",
        "\n",
        "def substracter1(state: MathDecisionAgent)->MathDecisionAgent:\n",
        "  \"\"\"This node substracts 2 numbers\"\"\"\n",
        "  state[\"final1\"]=state[\"num1\"]-state[\"num2\"]\n",
        "  return state\n",
        "\n",
        "def multiplicater1(state: MathDecisionAgent)->MathDecisionAgent:\n",
        "  \"\"\"This node multiply 2 numbers\"\"\"\n",
        "  state[\"final1\"]=state[\"num1\"]*state[\"num2\"]\n",
        "  return state\n",
        "\n",
        "def divider1(state: MathDecisionAgent)->MathDecisionAgent:\n",
        "  \"\"\"This node divides 2 numbers\"\"\"\n",
        "  state[\"final1\"]=state[\"num1\"]/state[\"num2\"]\n",
        "  return state\n",
        "\n",
        "def decisionNode1(state: MathDecisionAgent)->MathDecisionAgent:\n",
        "  \"\"\"This node will select the next node of the graph\"\"\"\n",
        "  opr=state[\"operation1\"]\n",
        "  if opr=='+':\n",
        "    return \"Addition_operation\"\n",
        "  elif opr=='-':\n",
        "    return \"Substraction_operation\"\n",
        "  elif opr=='*':\n",
        "    return \"Multiplication_operation\"\n",
        "  elif opr=='/':\n",
        "    return \"Division_operation\"\n",
        "  elif opr=='%':\n",
        "    return \"Module_operation\"\n",
        "  elif opr=='**':\n",
        "    return \"Power_operation\"\n",
        "# FOR SECOND DECISION NODE\n",
        "def adder2(state: MathDecisionAgent)->MathDecisionAgent:\n",
        "  \"\"\"This node adds 2 numbers\"\"\"\n",
        "  state[\"final2\"]=state[\"num3\"]+state[\"num4\"]\n",
        "  return state\n",
        "\n",
        "def substracter2(state: MathDecisionAgent)->MathDecisionAgent:\n",
        "  \"\"\"This node substracts 2 numbers\"\"\"\n",
        "  state[\"final2\"]=state[\"num3\"]-state[\"num4\"]\n",
        "  return state\n",
        "\n",
        "def multiplicater2(state: MathDecisionAgent)->MathDecisionAgent:\n",
        "  \"\"\"This node multiply 2 numbers\"\"\"\n",
        "  state[\"final2\"]=state[\"num3\"]*state[\"num4\"]\n",
        "  return state\n",
        "\n",
        "def divider2(state: MathDecisionAgent)->MathDecisionAgent:\n",
        "  \"\"\"This node divides 2 numbers\"\"\"\n",
        "  state[\"final2\"]=state[\"num3\"]/state[\"num4\"]\n",
        "  return state\n",
        "\n",
        "def decisionNode2(state: MathDecisionAgent)->MathDecisionAgent:\n",
        "  \"\"\"This node will select the next node of the graph\"\"\"\n",
        "  opr1=state[\"operation2\"]\n",
        "  if opr1=='+':\n",
        "    return \"Addition_operation\"\n",
        "  elif opr1=='-':\n",
        "    return \"Substraction_operation\"\n",
        "  elif opr1=='*':\n",
        "    return \"Multiplication_operation\"\n",
        "  elif opr1=='/':\n",
        "    return \"Division_operation\"\n",
        "  elif opr1=='%':\n",
        "    return \"Module_operation\"\n",
        "  elif opr1=='**':\n",
        "    return \"Power_operation\""
      ],
      "metadata": {
        "id": "mwP5_sVJ2O12"
      },
      "execution_count": 75,
      "outputs": []
    },
    {
      "cell_type": "code",
      "source": [
        "\n",
        "graph = StateGraph(MathDecisionAgent)\n",
        "# Add nodes\n",
        "graph.add_node(\"Addition\", adder1)\n",
        "graph.add_node(\"Substraction\", substracter1)\n",
        "graph.add_node(\"Multiplication\", multiplicater1)\n",
        "graph.add_node(\"Division\", divider1)\n",
        "\n",
        "graph.add_node(\"Addition2\", adder2)\n",
        "graph.add_node(\"Substraction2\", substracter2)\n",
        "graph.add_node(\"Multiplication2\", multiplicater2)\n",
        "graph.add_node(\"Division2\", divider2)\n",
        "\n",
        "graph.add_node(\"Decision1\", lambda state: state)\n",
        "graph.add_node(\"Decision2\", lambda state: state)\n",
        "\n",
        "# Set entry point\n",
        "graph.set_entry_point(\"Decision1\")\n",
        "\n",
        "# Conditional branching for first operation\n",
        "graph.add_conditional_edges(\"Decision1\", decisionNode1, {\n",
        "    \"Addition_operation\": \"Addition\",\n",
        "    \"Substraction_operation\": \"Substraction\",\n",
        "    \"Multiplication_operation\": \"Multiplication\",\n",
        "    \"Division_operation\": \"Division\"\n",
        "})\n",
        "\n",
        "# Connect Op1 nodes to Decision2\n",
        "graph.add_edge(\"Addition\", \"Decision2\")\n",
        "graph.add_edge(\"Substraction\", \"Decision2\")\n",
        "graph.add_edge(\"Multiplication\", \"Decision2\")\n",
        "graph.add_edge(\"Division\", \"Decision2\")\n",
        "\n",
        "# Conditional branching for second operation\n",
        "graph.add_conditional_edges(\"Decision2\", decisionNode2, {\n",
        "    \"Addition_operation\": \"Addition2\",\n",
        "    \"Substraction_operation\": \"Substraction2\",\n",
        "    \"Multiplication_operation\": \"Multiplication2\",\n",
        "    \"Division_operation\": \"Division2\"\n",
        "})\n",
        "\n",
        "# ✅ Now all Op2 nodes go directly to END\n",
        "graph.add_edge(\"Addition2\", END)\n",
        "graph.add_edge(\"Substraction2\", END)\n",
        "graph.add_edge(\"Multiplication2\", END)\n",
        "graph.add_edge(\"Division2\", END)\n",
        "\n",
        "# Compile the graph\n",
        "app = graph.compile()\n"
      ],
      "metadata": {
        "id": "_ZFsrfvC3SXC"
      },
      "execution_count": 76,
      "outputs": []
    },
    {
      "cell_type": "code",
      "source": [
        "from IPython.display import Image,display\n",
        "display(Image(app.get_graph().draw_mermaid_png()))"
      ],
      "metadata": {
        "colab": {
          "base_uri": "https://localhost:8080/",
          "height": 596
        },
        "id": "Jd-YPIQz8BSQ",
        "outputId": "ceda8e03-bb67-4c4b-b7e0-74026a1ecd14"
      },
      "execution_count": 77,
      "outputs": [
        {
          "output_type": "display_data",
          "data": {
            "image/png": "[encoded data removed]",
            "text/plain": [
              "<IPython.core.display.Image object>"
            ]
          },
          "metadata": {}
        }
      ]
    },
    {
      "cell_type": "code",
      "source": [
        "output = app.invoke({\n",
        "    \"num1\": 12,\n",
        "    \"num2\": 10,\n",
        "    \"num3\": 20,\n",
        "    \"num4\": 15,\n",
        "    \"operation1\": \"*\",\n",
        "    \"operation2\": \"-\",\n",
        "    \"final1\":0 ,\n",
        "    \"final2\": 0\n",
        "})\n"
      ],
      "metadata": {
        "id": "wcHDP6wr8Pan"
      },
      "execution_count": 78,
      "outputs": []
    },
    {
      "cell_type": "code",
      "source": [
        "print(output[\"final1\"],output[\"final2\"],end=\"\\n\")"
      ],
      "metadata": {
        "colab": {
          "base_uri": "https://localhost:8080/"
        },
        "id": "pZM8KTS8D9Un",
        "outputId": "8603c8f7-be39-4529-ec28-952b127e34df"
      },
      "execution_count": 79,
      "outputs": [
        {
          "output_type": "stream",
          "name": "stdout",
          "text": [
            "120 5\n"
          ]
        }
      ]
    },
    {
      "cell_type": "code",
      "source": [
        "user_name=input(\"Enter your name: \")\n",
        "while True:\n",
        "  operation1=input(\"Enter the first operation you want to perform: \")\n",
        "  operation2=input(\"Enter the second operation you want to perform: \")\n",
        "  print(\"Enter the numbers: \")\n",
        "  num1=int(input(\"First Number:\"))\n",
        "  num2=int(input(\"Second Number:\"))\n",
        "  num3=int(input(\"Third Number:\"))\n",
        "  num4=int(input(\"Fourth Number:\"))\n",
        "  output=app.invoke({\"num1\":num1,\"num2\":num2,\"num3\":num3,\"num4\":num4,\"operation1\":operation1,\"operation2\":operation2,\"final1\":\"\",\"final2\":\"\"})\n",
        "  print(output[\"final1\"])\n",
        "  print(output[\"final2\"])\n",
        "  choice=input(f\"{user_name} Do you want to perform anoter operation(yes/no): \").strip().lower()\n",
        "  if choice not in['yes','y']:\n",
        "    print(\"Thank You ! Have A Nice Day\")\n",
        "    break"
      ],
      "metadata": {
        "colab": {
          "base_uri": "https://localhost:8080/"
        },
        "id": "uBF0VGHJWjXo",
        "outputId": "274774ed-a378-4b01-98a0-39668dbd2061"
      },
      "execution_count": 81,
      "outputs": [
        {
          "output_type": "stream",
          "name": "stdout",
          "text": [
            "Enter your name: Ba\n",
            "Enter the first operation you want to perform: +\n",
            "Enter the second operation you want to perform: -\n",
            "Enter the numbers: \n",
            "First Number:34\n",
            "Second Number:88\n",
            "Third Number:4\n",
            "Fourth Number:9\n",
            "122\n",
            "-5\n",
            "Ba Do you want to perform anoter operation(yes/no): no\n",
            "Thank You ! Have A Nice Day\n"
          ]
        }
      ]
    },
    {
      "cell_type": "markdown",
      "source": [
        "**GRAPH : 9 : Looping Graph**"
      ],
      "metadata": {
        "id": "nXg6l7ysZG7o"
      }
    },
    {
      "cell_type": "code",
      "source": [
        "from langgraph.graph import StateGraph,END\n",
        "import random\n",
        "from typing import Dict,List,TypedDict"
      ],
      "metadata": {
        "id": "irH3hd6QZ0M4"
      },
      "execution_count": 82,
      "outputs": []
    },
    {
      "cell_type": "code",
      "source": [
        "class LoopDecisionAgent(TypedDict):\n",
        "  name:str\n",
        "  number:List[int]\n",
        "  counter:int"
      ],
      "metadata": {
        "id": "gqYTaL9raB31"
      },
      "execution_count": 83,
      "outputs": []
    },
    {
      "cell_type": "code",
      "source": [
        "print(\"Welcome To The Random Number Generator \")\n",
        "counter=int(input(\"Enter the count of random numbers you want to generate in range of 0 to 1000: \"))"
      ],
      "metadata": {
        "colab": {
          "base_uri": "https://localhost:8080/"
        },
        "id": "iL0C4AqisIGj",
        "outputId": "550ee15b-f5ad-4a67-d66c-7dd85ef4f202"
      },
      "execution_count": 84,
      "outputs": [
        {
          "name": "stdout",
          "output_type": "stream",
          "text": [
            "Welcome To The Random Number Generator \n",
            "Enter the count of random numbers you want to generate in range of 0 to 1000: 5\n"
          ]
        }
      ]
    },
    {
      "cell_type": "code",
      "source": [
        "def greeting_node(state:LoopDecisionAgent)->LoopDecisionAgent:\n",
        "  \"\"\"Greeting Node Which Says Hi To The Person\"\"\"\n",
        "  state[\"name\"]=f\"Hi there, {state['name']}\"\n",
        "  state[\"counter\"]=0\n",
        "  return state\n",
        "\n",
        "def Decision_Looping_Node(state:LoopDecisionAgent)->LoopDecisionAgent:\n",
        "  \"\"\"Generates a random number between 0 10 1000\"\"\"\n",
        "  state[\"number\"].append(random.randint(0,1000))\n",
        "  state[\"counter\"] +=1\n",
        "\n",
        "  return state\n",
        "\n",
        "def should_continue(state: Decision_Looping_Node)->Decision_Looping_Node:\n",
        "  \"\"\"Function to decide what to decide next\"\"\"\n",
        "  if state[\"counter\"]<counter:\n",
        "    print(\"Entering Loop\",state[\"counter\"])\n",
        "    return \"loop\"   #Continue Loop\n",
        "  else:\n",
        "    return \"exit\"   #Exit the loop"
      ],
      "metadata": {
        "id": "6y_EXT89ajVu"
      },
      "execution_count": 86,
      "outputs": []
    },
    {
      "cell_type": "code",
      "source": [
        "graph=StateGraph(LoopDecisionAgent)\n",
        "graph.add_node(\"Greeting\",greeting_node)\n",
        "graph.add_node(\"Decision\",Decision_Looping_Node)\n",
        "graph.add_edge(\"Greeting\",\"Decision\")\n",
        "\n",
        "graph.add_conditional_edges(\n",
        "    \"Decision\", #Source Node\n",
        "    should_continue,    #Routing Function\n",
        "    {\n",
        "        \"loop\":\"Decision\",  #Self loop back to same node\n",
        "        \"exit\":END              #End The Graph\n",
        "    }\n",
        ")\n",
        "graph.set_entry_point(\"Greeting\")\n",
        "\n",
        "app=graph.compile()"
      ],
      "metadata": {
        "id": "SMYTDWx5cdH6"
      },
      "execution_count": 87,
      "outputs": []
    },
    {
      "cell_type": "code",
      "source": [
        "from IPython.display import Image,display\n",
        "display(Image(app.get_graph().draw_mermaid_png()))"
      ],
      "metadata": {
        "colab": {
          "base_uri": "https://localhost:8080/",
          "height": 448
        },
        "id": "oH9VufUWqd7_",
        "outputId": "286f7a36-c8df-49b4-88c9-889d9d6feb98"
      },
      "execution_count": 88,
      "outputs": [
        {
          "output_type": "display_data",
          "data": {
            "image/png": "[encoded data removed]",
            "text/plain": [
              "<IPython.core.display.Image object>"
            ]
          },
          "metadata": {}
        }
      ]
    },
    {
      "cell_type": "code",
      "source": [
        "result=app.invoke({\"name\":\"Sa\",\n",
        "  \"number\":[],\n",
        "  \"counter\":counter})"
      ],
      "metadata": {
        "colab": {
          "base_uri": "https://localhost:8080/"
        },
        "id": "pJzgKBP-q31l",
        "outputId": "c1611b5f-5553-4afb-ab00-69c81ae60abf"
      },
      "execution_count": 91,
      "outputs": [
        {
          "output_type": "stream",
          "name": "stdout",
          "text": [
            "Entering Loop 1\n",
            "Entering Loop 2\n",
            "Entering Loop 3\n",
            "Entering Loop 4\n"
          ]
        }
      ]
    },
    {
      "cell_type": "code",
      "source": [
        "print(result)"
      ],
      "metadata": {
        "colab": {
          "base_uri": "https://localhost:8080/"
        },
        "id": "BEBxMdOVrf2Z",
        "outputId": "fac81d95-d031-4068-8c2b-78cccfeb7eac"
      },
      "execution_count": 92,
      "outputs": [
        {
          "output_type": "stream",
          "name": "stdout",
          "text": [
            "{'name': 'Hi there, Sa', 'number': [333, 232, 799, 306, 333], 'counter': 5}\n"
          ]
        }
      ]
    },
    {
      "cell_type": "markdown",
      "source": [
        "**LangGraph**"
      ],
      "metadata": {
        "id": "al_b2YYkpYH6"
      }
    },
    {
      "cell_type": "code",
      "source": [
        "pip install langchain"
      ],
      "metadata": {
        "colab": {
          "base_uri": "https://localhost:8080/"
        },
        "id": "FUQTYCdBjBmQ",
        "outputId": "495cd76f-1450-4472-e001-cf9cbeaa1e16"
      },
      "execution_count": 94,
      "outputs": [
        {
          "output_type": "stream",
          "name": "stdout",
          "text": [
            "Collecting langchain\n",
            "  Downloading langchain-1.0.2-py3-none-any.whl.metadata (4.7 kB)\n",
            "Requirement already satisfied: langchain-core<2.0.0,>=1.0.0 in /usr/local/lib/python3.12/dist-packages (from langchain) (1.0.1)\n",
            "Requirement already satisfied: langgraph<1.1.0,>=1.0.0 in /usr/local/lib/python3.12/dist-packages (from langchain) (1.0.1)\n",
            "Requirement already satisfied: pydantic<3.0.0,>=2.7.4 in /usr/local/lib/python3.12/dist-packages (from langchain) (2.12.3)\n",
            "Requirement already satisfied: jsonpatch<2.0.0,>=1.33.0 in /usr/local/lib/python3.12/dist-packages (from langchain-core<2.0.0,>=1.0.0->langchain) (1.33)\n",
            "Requirement already satisfied: langsmith<1.0.0,>=0.3.45 in /usr/local/lib/python3.12/dist-packages (from langchain-core<2.0.0,>=1.0.0->langchain) (0.4.38)\n",
            "Requirement already satisfied: packaging<26.0.0,>=23.2.0 in /usr/local/lib/python3.12/dist-packages (from langchain-core<2.0.0,>=1.0.0->langchain) (25.0)\n",
            "Requirement already satisfied: pyyaml<7.0.0,>=5.3.0 in /usr/local/lib/python3.12/dist-packages (from langchain-core<2.0.0,>=1.0.0->langchain) (6.0.3)\n",
            "Requirement already satisfied: tenacity!=8.4.0,<10.0.0,>=8.1.0 in /usr/local/lib/python3.12/dist-packages (from langchain-core<2.0.0,>=1.0.0->langchain) (9.1.2)\n",
            "Requirement already satisfied: typing-extensions<5.0.0,>=4.7.0 in /usr/local/lib/python3.12/dist-packages (from langchain-core<2.0.0,>=1.0.0->langchain) (4.15.0)\n",
            "Requirement already satisfied: langgraph-checkpoint<4.0.0,>=2.1.0 in /usr/local/lib/python3.12/dist-packages (from langgraph<1.1.0,>=1.0.0->langchain) (3.0.0)\n",
            "Requirement already satisfied: langgraph-prebuilt<1.1.0,>=1.0.0 in /usr/local/lib/python3.12/dist-packages (from langgraph<1.1.0,>=1.0.0->langchain) (1.0.1)\n",
            "Requirement already satisfied: langgraph-sdk<0.3.0,>=0.2.2 in /usr/local/lib/python3.12/dist-packages (from langgraph<1.1.0,>=1.0.0->langchain) (0.2.9)\n",
            "Requirement already satisfied: xxhash>=3.5.0 in /usr/local/lib/python3.12/dist-packages (from langgraph<1.1.0,>=1.0.0->langchain) (3.6.0)\n",
            "Requirement already satisfied: annotated-types>=0.6.0 in /usr/local/lib/python3.12/dist-packages (from pydantic<3.0.0,>=2.7.4->langchain) (0.7.0)\n",
            "Requirement already satisfied: pydantic-core==2.41.4 in /usr/local/lib/python3.12/dist-packages (from pydantic<3.0.0,>=2.7.4->langchain) (2.41.4)\n",
            "Requirement already satisfied: typing-inspection>=0.4.2 in /usr/local/lib/python3.12/dist-packages (from pydantic<3.0.0,>=2.7.4->langchain) (0.4.2)\n",
            "Requirement already satisfied: jsonpointer>=1.9 in /usr/local/lib/python3.12/dist-packages (from jsonpatch<2.0.0,>=1.33.0->langchain-core<2.0.0,>=1.0.0->langchain) (3.0.0)\n",
            "Requirement already satisfied: ormsgpack>=1.10.0 in /usr/local/lib/python3.12/dist-packages (from langgraph-checkpoint<4.0.0,>=2.1.0->langgraph<1.1.0,>=1.0.0->langchain) (1.11.0)\n",
            "Requirement already satisfied: httpx>=0.25.2 in /usr/local/lib/python3.12/dist-packages (from langgraph-sdk<0.3.0,>=0.2.2->langgraph<1.1.0,>=1.0.0->langchain) (0.28.1)\n",
            "Requirement already satisfied: orjson>=3.10.1 in /usr/local/lib/python3.12/dist-packages (from langgraph-sdk<0.3.0,>=0.2.2->langgraph<1.1.0,>=1.0.0->langchain) (3.11.4)\n",
            "Requirement already satisfied: requests-toolbelt>=1.0.0 in /usr/local/lib/python3.12/dist-packages (from langsmith<1.0.0,>=0.3.45->langchain-core<2.0.0,>=1.0.0->langchain) (1.0.0)\n",
            "Requirement already satisfied: requests>=2.0.0 in /usr/local/lib/python3.12/dist-packages (from langsmith<1.0.0,>=0.3.45->langchain-core<2.0.0,>=1.0.0->langchain) (2.32.4)\n",
            "Requirement already satisfied: zstandard>=0.23.0 in /usr/local/lib/python3.12/dist-packages (from langsmith<1.0.0,>=0.3.45->langchain-core<2.0.0,>=1.0.0->langchain) (0.25.0)\n",
            "Requirement already satisfied: anyio in /usr/local/lib/python3.12/dist-packages (from httpx>=0.25.2->langgraph-sdk<0.3.0,>=0.2.2->langgraph<1.1.0,>=1.0.0->langchain) (4.11.0)\n",
            "Requirement already satisfied: certifi in /usr/local/lib/python3.12/dist-packages (from httpx>=0.25.2->langgraph-sdk<0.3.0,>=0.2.2->langgraph<1.1.0,>=1.0.0->langchain) (2025.10.5)\n",
            "Requirement already satisfied: httpcore==1.* in /usr/local/lib/python3.12/dist-packages (from httpx>=0.25.2->langgraph-sdk<0.3.0,>=0.2.2->langgraph<1.1.0,>=1.0.0->langchain) (1.0.9)\n",
            "Requirement already satisfied: idna in /usr/local/lib/python3.12/dist-packages (from httpx>=0.25.2->langgraph-sdk<0.3.0,>=0.2.2->langgraph<1.1.0,>=1.0.0->langchain) (3.11)\n",
            "Requirement already satisfied: h11>=0.16 in /usr/local/lib/python3.12/dist-packages (from httpcore==1.*->httpx>=0.25.2->langgraph-sdk<0.3.0,>=0.2.2->langgraph<1.1.0,>=1.0.0->langchain) (0.16.0)\n",
            "Requirement already satisfied: charset_normalizer<4,>=2 in /usr/local/lib/python3.12/dist-packages (from requests>=2.0.0->langsmith<1.0.0,>=0.3.45->langchain-core<2.0.0,>=1.0.0->langchain) (3.4.4)\n",
            "Requirement already satisfied: urllib3<3,>=1.21.1 in /usr/local/lib/python3.12/dist-packages (from requests>=2.0.0->langsmith<1.0.0,>=0.3.45->langchain-core<2.0.0,>=1.0.0->langchain) (2.5.0)\n",
            "Requirement already satisfied: sniffio>=1.1 in /usr/local/lib/python3.12/dist-packages (from anyio->httpx>=0.25.2->langgraph-sdk<0.3.0,>=0.2.2->langgraph<1.1.0,>=1.0.0->langchain) (1.3.1)\n",
            "Downloading langchain-1.0.2-py3-none-any.whl (107 kB)\n",
            "\u001b[?25l   \u001b[90m━━━━━━━━━━━━━━━━━━━━━━━━━━━━━━━━━━━━━━━━\u001b[0m \u001b[32m0.0/107.8 kB\u001b[0m \u001b[31m?\u001b[0m eta \u001b[36m-:--:--\u001b[0m\r\u001b[2K   \u001b[90m━━━━━━━━━━━━━━━━━━━━━━━━━━━━━━━━━━━━━━━━\u001b[0m \u001b[32m107.8/107.8 kB\u001b[0m \u001b[31m4.8 MB/s\u001b[0m eta \u001b[36m0:00:00\u001b[0m\n",
            "\u001b[?25hInstalling collected packages: langchain\n",
            "Successfully installed langchain-1.0.2\n"
          ]
        }
      ]
    },
    {
      "cell_type": "code",
      "source": [
        "from langchain.chat_models import init_chat_model\n",
        "from typing import Annotated\n",
        "from typing_extensions import TypedDict\n",
        "from langgraph.graph import StateGraph,START,END\n",
        "from langgraph.graph.message import add_messages\n",
        "from langchain_core.tools import tool\n",
        "from langgraph.prebuilt import ToolNode,tools_condition"
      ],
      "metadata": {
        "id": "XHT8JF-Upar6"
      },
      "execution_count": 95,
      "outputs": []
    },
    {
      "cell_type": "code",
      "source": [
        "pip install load_dotenv"
      ],
      "metadata": {
        "colab": {
          "base_uri": "https://localhost:8080/"
        },
        "id": "dt0PttwFrBji",
        "outputId": "39cb738a-8ac9-4d5d-bcdc-0cd1be692ef2"
      },
      "execution_count": 96,
      "outputs": [
        {
          "output_type": "stream",
          "name": "stdout",
          "text": [
            "Collecting load_dotenv\n",
            "  Downloading load_dotenv-0.1.0-py3-none-any.whl.metadata (1.9 kB)\n",
            "Collecting python-dotenv (from load_dotenv)\n",
            "  Downloading python_dotenv-1.2.1-py3-none-any.whl.metadata (25 kB)\n",
            "Downloading load_dotenv-0.1.0-py3-none-any.whl (7.2 kB)\n",
            "Downloading python_dotenv-1.2.1-py3-none-any.whl (21 kB)\n",
            "Installing collected packages: python-dotenv, load_dotenv\n",
            "Successfully installed load_dotenv-0.1.0 python-dotenv-1.2.1\n"
          ]
        }
      ]
    },
    {
      "cell_type": "code",
      "source": [
        "from dotenv import load_dotenv\n",
        "load_dotenv()"
      ],
      "metadata": {
        "colab": {
          "base_uri": "https://localhost:8080/"
        },
        "id": "blxKjqRtqUdW",
        "outputId": "955eeae3-cefa-42c8-92e0-190650c82e01"
      },
      "execution_count": 97,
      "outputs": [
        {
          "output_type": "execute_result",
          "data": {
            "text/plain": [
              "False"
            ]
          },
          "metadata": {},
          "execution_count": 97
        }
      ]
    },
    {
      "cell_type": "code",
      "source": [
        "pip install Annotated"
      ],
      "metadata": {
        "colab": {
          "base_uri": "https://localhost:8080/"
        },
        "id": "XvEppRp1sAoJ",
        "outputId": "ab87c21b-b3ab-44f4-889a-277b878daf68"
      },
      "execution_count": 98,
      "outputs": [
        {
          "output_type": "stream",
          "name": "stdout",
          "text": [
            "Collecting Annotated\n",
            "  Downloading annotated-0.0.2-py3-none-any.whl.metadata (2.2 kB)\n",
            "Downloading annotated-0.0.2-py3-none-any.whl (5.1 kB)\n",
            "Installing collected packages: Annotated\n",
            "Successfully installed Annotated-0.0.2\n"
          ]
        }
      ]
    },
    {
      "cell_type": "code",
      "source": [
        "from typing import TypedDict, List\n",
        "  # Message have the type \"List\".The 'add_message' function\n",
        "  # in the annotation defines how this state key should be updated\n",
        "  # (in this case, it appends messgaes to the list, rather than overwriting them)\n",
        "\n",
        "class State(TypedDict):\n",
        "    messages: List[str]  # or whatever type your messages are\n"
      ],
      "metadata": {
        "id": "bdLO36xdqvAl"
      },
      "execution_count": 99,
      "outputs": []
    },
    {
      "cell_type": "code",
      "source": [
        "from getpass import getpass\n",
        "import os\n",
        "\n",
        "# Enter the key securely (won't be visible when typed)\n",
        "os.environ['API_KEY'] = getpass('Enter your API key: ')\n",
        "\n",
        "# Use the key\n",
        "api_key = os.environ['API_KEY']\n"
      ],
      "metadata": {
        "colab": {
          "base_uri": "https://localhost:8080/"
        },
        "id": "Uw3VwFQRH_hf",
        "outputId": "d7827e21-1404-4682-9040-d3e1b6b982b7"
      },
      "execution_count": 100,
      "outputs": [
        {
          "name": "stdout",
          "output_type": "stream",
          "text": [
            "Enter your API key: ··········\n"
          ]
        }
      ]
    },
    {
      "cell_type": "code",
      "source": [
        "!pip install -U langchain langchain-google-genai"
      ],
      "metadata": {
        "colab": {
          "base_uri": "https://localhost:8080/",
          "height": 1000
        },
        "id": "dBU09AjwJEGI",
        "outputId": "ed26a1be-5faf-4a1d-e386-6c0816c5f01f"
      },
      "execution_count": 101,
      "outputs": [
        {
          "output_type": "stream",
          "name": "stdout",
          "text": [
            "Requirement already satisfied: langchain in /usr/local/lib/python3.12/dist-packages (1.0.2)\n",
            "Collecting langchain-google-genai\n",
            "  Downloading langchain_google_genai-3.0.0-py3-none-any.whl.metadata (7.1 kB)\n",
            "Requirement already satisfied: langchain-core<2.0.0,>=1.0.0 in /usr/local/lib/python3.12/dist-packages (from langchain) (1.0.1)\n",
            "Requirement already satisfied: langgraph<1.1.0,>=1.0.0 in /usr/local/lib/python3.12/dist-packages (from langchain) (1.0.1)\n",
            "Requirement already satisfied: pydantic<3.0.0,>=2.7.4 in /usr/local/lib/python3.12/dist-packages (from langchain) (2.12.3)\n",
            "Collecting google-ai-generativelanguage<1.0.0,>=0.7.0 (from langchain-google-genai)\n",
            "  Downloading google_ai_generativelanguage-0.9.0-py3-none-any.whl.metadata (10 kB)\n",
            "Collecting filetype<2.0.0,>=1.2.0 (from langchain-google-genai)\n",
            "  Downloading filetype-1.2.0-py2.py3-none-any.whl.metadata (6.5 kB)\n",
            "Requirement already satisfied: google-api-core!=2.0.*,!=2.1.*,!=2.10.*,!=2.2.*,!=2.3.*,!=2.4.*,!=2.5.*,!=2.6.*,!=2.7.*,!=2.8.*,!=2.9.*,<3.0.0,>=1.34.1 in /usr/local/lib/python3.12/dist-packages (from google-api-core[grpc]!=2.0.*,!=2.1.*,!=2.10.*,!=2.2.*,!=2.3.*,!=2.4.*,!=2.5.*,!=2.6.*,!=2.7.*,!=2.8.*,!=2.9.*,<3.0.0,>=1.34.1->google-ai-generativelanguage<1.0.0,>=0.7.0->langchain-google-genai) (2.27.0)\n",
            "Requirement already satisfied: google-auth!=2.24.0,!=2.25.0,<3.0.0,>=2.14.1 in /usr/local/lib/python3.12/dist-packages (from google-ai-generativelanguage<1.0.0,>=0.7.0->langchain-google-genai) (2.38.0)\n",
            "Requirement already satisfied: grpcio<2.0.0,>=1.33.2 in /usr/local/lib/python3.12/dist-packages (from google-ai-generativelanguage<1.0.0,>=0.7.0->langchain-google-genai) (1.76.0)\n",
            "Requirement already satisfied: proto-plus<2.0.0,>=1.22.3 in /usr/local/lib/python3.12/dist-packages (from google-ai-generativelanguage<1.0.0,>=0.7.0->langchain-google-genai) (1.26.1)\n",
            "Requirement already satisfied: protobuf!=4.21.0,!=4.21.1,!=4.21.2,!=4.21.3,!=4.21.4,!=4.21.5,<7.0.0,>=3.20.2 in /usr/local/lib/python3.12/dist-packages (from google-ai-generativelanguage<1.0.0,>=0.7.0->langchain-google-genai) (6.33.0)\n",
            "Requirement already satisfied: jsonpatch<2.0.0,>=1.33.0 in /usr/local/lib/python3.12/dist-packages (from langchain-core<2.0.0,>=1.0.0->langchain) (1.33)\n",
            "Requirement already satisfied: langsmith<1.0.0,>=0.3.45 in /usr/local/lib/python3.12/dist-packages (from langchain-core<2.0.0,>=1.0.0->langchain) (0.4.38)\n",
            "Requirement already satisfied: packaging<26.0.0,>=23.2.0 in /usr/local/lib/python3.12/dist-packages (from langchain-core<2.0.0,>=1.0.0->langchain) (25.0)\n",
            "Requirement already satisfied: pyyaml<7.0.0,>=5.3.0 in /usr/local/lib/python3.12/dist-packages (from langchain-core<2.0.0,>=1.0.0->langchain) (6.0.3)\n",
            "Requirement already satisfied: tenacity!=8.4.0,<10.0.0,>=8.1.0 in /usr/local/lib/python3.12/dist-packages (from langchain-core<2.0.0,>=1.0.0->langchain) (9.1.2)\n",
            "Requirement already satisfied: typing-extensions<5.0.0,>=4.7.0 in /usr/local/lib/python3.12/dist-packages (from langchain-core<2.0.0,>=1.0.0->langchain) (4.15.0)\n",
            "Requirement already satisfied: langgraph-checkpoint<4.0.0,>=2.1.0 in /usr/local/lib/python3.12/dist-packages (from langgraph<1.1.0,>=1.0.0->langchain) (3.0.0)\n",
            "Requirement already satisfied: langgraph-prebuilt<1.1.0,>=1.0.0 in /usr/local/lib/python3.12/dist-packages (from langgraph<1.1.0,>=1.0.0->langchain) (1.0.1)\n",
            "Requirement already satisfied: langgraph-sdk<0.3.0,>=0.2.2 in /usr/local/lib/python3.12/dist-packages (from langgraph<1.1.0,>=1.0.0->langchain) (0.2.9)\n",
            "Requirement already satisfied: xxhash>=3.5.0 in /usr/local/lib/python3.12/dist-packages (from langgraph<1.1.0,>=1.0.0->langchain) (3.6.0)\n",
            "Requirement already satisfied: annotated-types>=0.6.0 in /usr/local/lib/python3.12/dist-packages (from pydantic<3.0.0,>=2.7.4->langchain) (0.7.0)\n",
            "Requirement already satisfied: pydantic-core==2.41.4 in /usr/local/lib/python3.12/dist-packages (from pydantic<3.0.0,>=2.7.4->langchain) (2.41.4)\n",
            "Requirement already satisfied: typing-inspection>=0.4.2 in /usr/local/lib/python3.12/dist-packages (from pydantic<3.0.0,>=2.7.4->langchain) (0.4.2)\n",
            "Requirement already satisfied: googleapis-common-protos<2.0.0,>=1.56.2 in /usr/local/lib/python3.12/dist-packages (from google-api-core!=2.0.*,!=2.1.*,!=2.10.*,!=2.2.*,!=2.3.*,!=2.4.*,!=2.5.*,!=2.6.*,!=2.7.*,!=2.8.*,!=2.9.*,<3.0.0,>=1.34.1->google-api-core[grpc]!=2.0.*,!=2.1.*,!=2.10.*,!=2.2.*,!=2.3.*,!=2.4.*,!=2.5.*,!=2.6.*,!=2.7.*,!=2.8.*,!=2.9.*,<3.0.0,>=1.34.1->google-ai-generativelanguage<1.0.0,>=0.7.0->langchain-google-genai) (1.71.0)\n",
            "Requirement already satisfied: requests<3.0.0,>=2.18.0 in /usr/local/lib/python3.12/dist-packages (from google-api-core!=2.0.*,!=2.1.*,!=2.10.*,!=2.2.*,!=2.3.*,!=2.4.*,!=2.5.*,!=2.6.*,!=2.7.*,!=2.8.*,!=2.9.*,<3.0.0,>=1.34.1->google-api-core[grpc]!=2.0.*,!=2.1.*,!=2.10.*,!=2.2.*,!=2.3.*,!=2.4.*,!=2.5.*,!=2.6.*,!=2.7.*,!=2.8.*,!=2.9.*,<3.0.0,>=1.34.1->google-ai-generativelanguage<1.0.0,>=0.7.0->langchain-google-genai) (2.32.4)\n",
            "Collecting grpcio-status<2.0.0,>=1.33.2 (from google-api-core[grpc]!=2.0.*,!=2.1.*,!=2.10.*,!=2.2.*,!=2.3.*,!=2.4.*,!=2.5.*,!=2.6.*,!=2.7.*,!=2.8.*,!=2.9.*,<3.0.0,>=1.34.1->google-ai-generativelanguage<1.0.0,>=0.7.0->langchain-google-genai)\n",
            "  Downloading grpcio_status-1.76.0-py3-none-any.whl.metadata (1.1 kB)\n",
            "Requirement already satisfied: cachetools<6.0,>=2.0.0 in /usr/local/lib/python3.12/dist-packages (from google-auth!=2.24.0,!=2.25.0,<3.0.0,>=2.14.1->google-ai-generativelanguage<1.0.0,>=0.7.0->langchain-google-genai) (5.5.2)\n",
            "Requirement already satisfied: pyasn1-modules>=0.2.1 in /usr/local/lib/python3.12/dist-packages (from google-auth!=2.24.0,!=2.25.0,<3.0.0,>=2.14.1->google-ai-generativelanguage<1.0.0,>=0.7.0->langchain-google-genai) (0.4.2)\n",
            "Requirement already satisfied: rsa<5,>=3.1.4 in /usr/local/lib/python3.12/dist-packages (from google-auth!=2.24.0,!=2.25.0,<3.0.0,>=2.14.1->google-ai-generativelanguage<1.0.0,>=0.7.0->langchain-google-genai) (4.9.1)\n",
            "Requirement already satisfied: jsonpointer>=1.9 in /usr/local/lib/python3.12/dist-packages (from jsonpatch<2.0.0,>=1.33.0->langchain-core<2.0.0,>=1.0.0->langchain) (3.0.0)\n",
            "Requirement already satisfied: ormsgpack>=1.10.0 in /usr/local/lib/python3.12/dist-packages (from langgraph-checkpoint<4.0.0,>=2.1.0->langgraph<1.1.0,>=1.0.0->langchain) (1.11.0)\n",
            "Requirement already satisfied: httpx>=0.25.2 in /usr/local/lib/python3.12/dist-packages (from langgraph-sdk<0.3.0,>=0.2.2->langgraph<1.1.0,>=1.0.0->langchain) (0.28.1)\n",
            "Requirement already satisfied: orjson>=3.10.1 in /usr/local/lib/python3.12/dist-packages (from langgraph-sdk<0.3.0,>=0.2.2->langgraph<1.1.0,>=1.0.0->langchain) (3.11.4)\n",
            "Requirement already satisfied: requests-toolbelt>=1.0.0 in /usr/local/lib/python3.12/dist-packages (from langsmith<1.0.0,>=0.3.45->langchain-core<2.0.0,>=1.0.0->langchain) (1.0.0)\n",
            "Requirement already satisfied: zstandard>=0.23.0 in /usr/local/lib/python3.12/dist-packages (from langsmith<1.0.0,>=0.3.45->langchain-core<2.0.0,>=1.0.0->langchain) (0.25.0)\n",
            "Requirement already satisfied: anyio in /usr/local/lib/python3.12/dist-packages (from httpx>=0.25.2->langgraph-sdk<0.3.0,>=0.2.2->langgraph<1.1.0,>=1.0.0->langchain) (4.11.0)\n",
            "Requirement already satisfied: certifi in /usr/local/lib/python3.12/dist-packages (from httpx>=0.25.2->langgraph-sdk<0.3.0,>=0.2.2->langgraph<1.1.0,>=1.0.0->langchain) (2025.10.5)\n",
            "Requirement already satisfied: httpcore==1.* in /usr/local/lib/python3.12/dist-packages (from httpx>=0.25.2->langgraph-sdk<0.3.0,>=0.2.2->langgraph<1.1.0,>=1.0.0->langchain) (1.0.9)\n",
            "Requirement already satisfied: idna in /usr/local/lib/python3.12/dist-packages (from httpx>=0.25.2->langgraph-sdk<0.3.0,>=0.2.2->langgraph<1.1.0,>=1.0.0->langchain) (3.11)\n",
            "Requirement already satisfied: h11>=0.16 in /usr/local/lib/python3.12/dist-packages (from httpcore==1.*->httpx>=0.25.2->langgraph-sdk<0.3.0,>=0.2.2->langgraph<1.1.0,>=1.0.0->langchain) (0.16.0)\n",
            "Requirement already satisfied: pyasn1<0.7.0,>=0.6.1 in /usr/local/lib/python3.12/dist-packages (from pyasn1-modules>=0.2.1->google-auth!=2.24.0,!=2.25.0,<3.0.0,>=2.14.1->google-ai-generativelanguage<1.0.0,>=0.7.0->langchain-google-genai) (0.6.1)\n",
            "Requirement already satisfied: charset_normalizer<4,>=2 in /usr/local/lib/python3.12/dist-packages (from requests<3.0.0,>=2.18.0->google-api-core!=2.0.*,!=2.1.*,!=2.10.*,!=2.2.*,!=2.3.*,!=2.4.*,!=2.5.*,!=2.6.*,!=2.7.*,!=2.8.*,!=2.9.*,<3.0.0,>=1.34.1->google-api-core[grpc]!=2.0.*,!=2.1.*,!=2.10.*,!=2.2.*,!=2.3.*,!=2.4.*,!=2.5.*,!=2.6.*,!=2.7.*,!=2.8.*,!=2.9.*,<3.0.0,>=1.34.1->google-ai-generativelanguage<1.0.0,>=0.7.0->langchain-google-genai) (3.4.4)\n",
            "Requirement already satisfied: urllib3<3,>=1.21.1 in /usr/local/lib/python3.12/dist-packages (from requests<3.0.0,>=2.18.0->google-api-core!=2.0.*,!=2.1.*,!=2.10.*,!=2.2.*,!=2.3.*,!=2.4.*,!=2.5.*,!=2.6.*,!=2.7.*,!=2.8.*,!=2.9.*,<3.0.0,>=1.34.1->google-api-core[grpc]!=2.0.*,!=2.1.*,!=2.10.*,!=2.2.*,!=2.3.*,!=2.4.*,!=2.5.*,!=2.6.*,!=2.7.*,!=2.8.*,!=2.9.*,<3.0.0,>=1.34.1->google-ai-generativelanguage<1.0.0,>=0.7.0->langchain-google-genai) (2.5.0)\n",
            "Requirement already satisfied: sniffio>=1.1 in /usr/local/lib/python3.12/dist-packages (from anyio->httpx>=0.25.2->langgraph-sdk<0.3.0,>=0.2.2->langgraph<1.1.0,>=1.0.0->langchain) (1.3.1)\n",
            "Downloading langchain_google_genai-3.0.0-py3-none-any.whl (57 kB)\n",
            "\u001b[2K   \u001b[90m━━━━━━━━━━━━━━━━━━━━━━━━━━━━━━━━━━━━━━━━\u001b[0m \u001b[32m57.8/57.8 kB\u001b[0m \u001b[31m4.1 MB/s\u001b[0m eta \u001b[36m0:00:00\u001b[0m\n",
            "\u001b[?25hDownloading filetype-1.2.0-py2.py3-none-any.whl (19 kB)\n",
            "Downloading google_ai_generativelanguage-0.9.0-py3-none-any.whl (1.4 MB)\n",
            "\u001b[2K   \u001b[90m━━━━━━━━━━━━━━━━━━━━━━━━━━━━━━━━━━━━━━━━\u001b[0m \u001b[32m1.4/1.4 MB\u001b[0m \u001b[31m51.7 MB/s\u001b[0m eta \u001b[36m0:00:00\u001b[0m\n",
            "\u001b[?25hDownloading grpcio_status-1.76.0-py3-none-any.whl (14 kB)\n",
            "Installing collected packages: filetype, grpcio-status, google-ai-generativelanguage, langchain-google-genai\n",
            "Successfully installed filetype-1.2.0 google-ai-generativelanguage-0.9.0 grpcio-status-1.76.0 langchain-google-genai-3.0.0\n"
          ]
        },
        {
          "output_type": "display_data",
          "data": {
            "application/vnd.colab-display-data+json": {
              "pip_warning": {
                "packages": [
                  "google"
                ]
              },
              "id": "ae8802100e8949888803e9c1fe511cdc"
            }
          },
          "metadata": {}
        }
      ]
    },
    {
      "cell_type": "code",
      "source": [
        "from langchain_google_genai import ChatGoogleGenerativeAI\n",
        "from langchain_core.tools import tool\n",
        "from langchain_core.messages import HumanMessage\n",
        "\n",
        "@tool\n",
        "def get_stock_price(symbol: str) -> float:\n",
        "    \"\"\"Return the current price of stock given the stock symbol.\"\"\"\n",
        "    return {\n",
        "        \"MSFT\": 200.3,\n",
        "        \"AAPL\": 100.4,\n",
        "        \"AMZN\": 150.0,\n",
        "        \"RIL\": 87.6\n",
        "    }.get(symbol, 0.0)\n",
        "\n",
        "tools = [get_stock_price]\n",
        "\n",
        "# Initialize Gemini LLM\n",
        "llm = ChatGoogleGenerativeAI(model=\"gemini-1.5-pro\", temperature=0.7)\n",
        "\n",
        "# Bind tools\n",
        "llm_with_tools = llm.bind_tools(tools)"
      ],
      "metadata": {
        "id": "31Dft0-gr-lR"
      },
      "execution_count": 102,
      "outputs": []
    },
    {
      "cell_type": "code",
      "source": [
        "def chatbot(state:State):\n",
        "  return {\"messages\":[llm_with_tools.invoke(state[\"message\"])]}\n",
        "\n",
        "builder=StateGraph(State)\n",
        "builder.add_node(chatbot)"
      ],
      "metadata": {
        "id": "ed4_pGcpIk08",
        "colab": {
          "base_uri": "https://localhost:8080/"
        },
        "outputId": "5f3ec662-a8de-4806-8108-b57a27738461"
      },
      "execution_count": 103,
      "outputs": [
        {
          "output_type": "execute_result",
          "data": {
            "text/plain": [
              "<langgraph.graph.state.StateGraph at 0x7923a3b58c80>"
            ]
          },
          "metadata": {},
          "execution_count": 103
        }
      ]
    }
  ]
}